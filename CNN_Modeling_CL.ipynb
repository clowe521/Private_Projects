{
 "cells": [
  {
   "cell_type": "code",
   "execution_count": 1,
   "id": "vocal-talent",
   "metadata": {},
   "outputs": [],
   "source": [
    "# Library Imports\n",
    "\n",
    "import pandas as pd\n",
    "import numpy as np\n",
    "import seaborn as sns\n",
    "import matplotlib.pyplot as plt\n",
    "import librosa\n",
    "import librosa.display\n",
    "import pickle\n",
    "import os\n",
    "import shutil\n",
    "\n",
    "sns.set(style='darkgrid')\n",
    "\n",
    "import warnings\n",
    "warnings.filterwarnings('ignore')"
   ]
  },
  {
   "cell_type": "code",
   "execution_count": 2,
   "id": "another-october",
   "metadata": {},
   "outputs": [],
   "source": [
    "# Read available images\n",
    "\n",
    "imagePath = r'C:\\Users\\Christopher\\Conservation_Labs\\images'\n",
    "trainPath = imagePath + '/train/'\n",
    "valPath = imagePath + '/test/'\n",
    "\n",
    "file_list = os.listdir(trainPath)"
   ]
  },
  {
   "cell_type": "code",
   "execution_count": 3,
   "id": "advanced-heavy",
   "metadata": {
    "scrolled": true
   },
   "outputs": [
    {
     "data": {
      "text/plain": [
       "['a84_10699_kitsink.jpg',\n",
       " 'a84_10701_kitsink.jpg',\n",
       " 'a84_10702_kitsink.jpg',\n",
       " 'a84_10703_revosm.jpg',\n",
       " 'a84_11871_kitsink.jpg',\n",
       " 'a84_11875_toilet.jpg',\n",
       " 'a84_11878_shower.jpg',\n",
       " 'a84_11879_kitsink.jpg',\n",
       " 'a84_11880_kitsink.jpg',\n",
       " 'a84_11930_revosm.jpg',\n",
       " 'a84_12000_kitsink.jpg',\n",
       " 'a84_12207_lavsink.jpg',\n",
       " 'a84_12208_lavsink.jpg',\n",
       " 'a84_12209_lavsink.jpg',\n",
       " 'a84_12213_revosm.jpg',\n",
       " 'a84_12224_lavsink.jpg',\n",
       " 'a84_12226_lavsink.jpg',\n",
       " 'a84_12239_lavsink.jpg',\n",
       " 'a84_12240_lavsink.jpg',\n",
       " 'a84_12244_lavsink.jpg',\n",
       " 'a84_12245_lavsink.jpg',\n",
       " 'a84_12246_lavsink.jpg',\n",
       " 'a84_12250_kitsink.jpg',\n",
       " 'a84_13027_kitsink.jpg',\n",
       " 'a84_13028_kitsink.jpg',\n",
       " 'a84_13029_kitsink.jpg',\n",
       " 'a84_13750_kitsink.jpg',\n",
       " 'a84_13752_kitsink.jpg',\n",
       " 'a84_13754_kitsink.jpg',\n",
       " 'a84_13781_revosm.jpg',\n",
       " 'a84_13821_kitsink.jpg',\n",
       " 'a84_13823_kitsink.jpg',\n",
       " 'a84_13966_lavsink.jpg',\n",
       " 'a84_13969_revosm.jpg',\n",
       " 'a84_13977_lavsink.jpg',\n",
       " 'a84_13978_lavsink.jpg',\n",
       " 'a84_13990_lavsink.jpg',\n",
       " 'a84_13993_lavsink.jpg',\n",
       " 'a84_13994_lavsink.jpg',\n",
       " 'a84_13995_lavsink.jpg',\n",
       " 'a84_13996_shower.jpg',\n",
       " 'a84_13997_kitsink.jpg',\n",
       " 'a84_15093_kitsink.jpg',\n",
       " 'a84_15107_revosm.jpg',\n",
       " 'a84_15134_kitsink.jpg',\n",
       " 'a84_15135_kitsink.jpg',\n",
       " 'a84_15136_kitsink.jpg',\n",
       " 'a84_15242_lavsink.jpg',\n",
       " 'a84_15248_lavsink.jpg',\n",
       " 'a84_15249_lavsink.jpg',\n",
       " 'a84_15257_lavsink.jpg',\n",
       " 'a84_15259_lavsink.jpg',\n",
       " 'a84_15694_kitsink.jpg',\n",
       " 'a84_16100_kitsink.jpg',\n",
       " 'a84_16129_kitsink.jpg',\n",
       " 'a84_16212_lavsink.jpg',\n",
       " 'a84_16216_lavsink.jpg',\n",
       " 'a84_16221_lavsink.jpg',\n",
       " 'a84_16223_lavsink.jpg',\n",
       " 'a84_1679_toilet.jpg',\n",
       " 'a84_1683_kitsink.jpg',\n",
       " 'a84_1684_kitsink.jpg',\n",
       " 'a84_1686_kitsink.jpg',\n",
       " 'a84_16897_kitsink.jpg',\n",
       " 'a84_16898_kitsink.jpg',\n",
       " 'a84_1689_revosm.jpg',\n",
       " 'a84_16960_lavsink.jpg',\n",
       " 'a84_16964_lavsink.jpg',\n",
       " 'a84_16968_lavsink.jpg',\n",
       " 'a84_17245_kitsink.jpg',\n",
       " 'a84_17525_kitsink.jpg',\n",
       " 'a84_17526_kitsink.jpg',\n",
       " 'a84_17579_lavsink.jpg',\n",
       " 'a84_17812_toilet.jpg',\n",
       " 'a84_17813_kitsink.jpg',\n",
       " 'a84_18092_kitsink.jpg',\n",
       " 'a84_18093_kitsink.jpg',\n",
       " 'a84_18094_kitsink.jpg',\n",
       " 'a84_18095_kitsink.jpg',\n",
       " 'a84_18096_kitsink.jpg',\n",
       " 'a84_18097_revosm.jpg',\n",
       " 'a84_18099_revosm.jpg',\n",
       " 'a84_18415_toilet.jpg',\n",
       " 'a84_18417_toilet.jpg',\n",
       " 'a84_18418_toilet.jpg',\n",
       " 'a84_18419_toilet.jpg',\n",
       " 'a84_18420_toilet.jpg',\n",
       " 'a84_18421_toilet.jpg',\n",
       " 'a84_18422_toilet.jpg',\n",
       " 'a84_18423_lavsink.jpg',\n",
       " 'a84_18424_lavsink.jpg',\n",
       " 'a84_18425_lavsink.jpg',\n",
       " 'a84_18426_lavsink.jpg',\n",
       " 'a84_18428_lavsink.jpg',\n",
       " 'a84_18430_shower.jpg',\n",
       " 'a84_18431_shower.jpg',\n",
       " 'a84_18436_kitsink.jpg',\n",
       " 'a84_18437_kitsink.jpg',\n",
       " 'a84_18438_kitsink.jpg',\n",
       " 'a84_18439_revosm.jpg',\n",
       " 'a84_18453_lavsink.jpg',\n",
       " 'a84_18454_lavsink.jpg',\n",
       " 'a84_18455_lavsink.jpg',\n",
       " 'a84_18457_lavsink.jpg',\n",
       " 'a84_18458_lavsink.jpg',\n",
       " 'a84_18459_lavsink.jpg',\n",
       " 'a84_18460_lavsink.jpg',\n",
       " 'a84_18461_shower.jpg',\n",
       " 'a84_18462_shower.jpg',\n",
       " 'a84_18463_shower.jpg',\n",
       " 'a84_18467_kitsink.jpg',\n",
       " 'a84_18468_kitsink.jpg',\n",
       " 'a84_18469_kitsink.jpg',\n",
       " 'a84_18483_lavsink.jpg',\n",
       " 'a84_18484_lavsink.jpg',\n",
       " 'a84_18488_lavsink.jpg',\n",
       " 'a84_18489_lavsink.jpg',\n",
       " 'a84_18490_lavsink.jpg',\n",
       " 'a84_18492_lavsink.jpg',\n",
       " 'a84_18493_lavsink.jpg',\n",
       " 'a84_18494_lavsink.jpg',\n",
       " 'a84_18495_lavsink.jpg',\n",
       " 'a84_18496_lavsink.jpg',\n",
       " 'a84_18497_lavsink.jpg',\n",
       " 'a84_18498_shower.jpg',\n",
       " 'a84_18499_shower.jpg',\n",
       " 'a84_18500_shower.jpg',\n",
       " 'a84_18501_shower.jpg',\n",
       " 'a84_18502_shower.jpg',\n",
       " 'a84_18503_kitsink.jpg',\n",
       " 'a84_18505_kitsink.jpg',\n",
       " 'a84_18506_revosm.jpg',\n",
       " 'a84_18507_revosm.jpg',\n",
       " 'a84_1933_shower.jpg',\n",
       " 'a84_19711_toilet.jpg',\n",
       " 'a84_19712_toilet.jpg',\n",
       " 'a84_19714_kitsink.jpg',\n",
       " 'a84_19715_kitsink.jpg',\n",
       " 'a84_19716_revosm.jpg',\n",
       " 'a84_19717_revosm.jpg',\n",
       " 'a84_19718_revosm.jpg',\n",
       " 'a84_19720_revosm.jpg',\n",
       " 'a84_19721_revosm.jpg',\n",
       " 'a84_19722_revosm.jpg',\n",
       " 'a84_19733_kitsink.jpg',\n",
       " 'a84_19965_shower.jpg',\n",
       " 'a84_20887_kitsink.jpg',\n",
       " 'a84_20889_kitsink.jpg',\n",
       " 'a84_20893_shower.jpg',\n",
       " 'a84_20894_shower.jpg',\n",
       " 'a84_20895_kitsink.jpg',\n",
       " 'a84_20896_kitsink.jpg',\n",
       " 'a84_20898_toilet.jpg',\n",
       " 'a84_20946_revosm.jpg',\n",
       " 'a84_21015_kitsink.jpg',\n",
       " 'a84_21016_kitsink.jpg',\n",
       " 'a84_21017_kitsink.jpg',\n",
       " 'a84_21018_kitsink.jpg',\n",
       " 'a84_21019_revosm.jpg',\n",
       " 'a84_21220_toilet.jpg',\n",
       " 'a84_21221_toilet.jpg',\n",
       " 'a84_21222_lavsink.jpg',\n",
       " 'a84_21225_lavsink.jpg',\n",
       " 'a84_21238_lavsink.jpg',\n",
       " 'a84_21239_lavsink.jpg',\n",
       " 'a84_21240_lavsink.jpg',\n",
       " 'a84_21241_lavsink.jpg',\n",
       " 'a84_21242_lavsink.jpg',\n",
       " 'a84_21246_kitsink.jpg',\n",
       " 'a84_21254_lavsink.jpg',\n",
       " 'a84_21255_lavsink.jpg',\n",
       " 'a84_21256_lavsink.jpg',\n",
       " 'a84_21257_lavsink.jpg',\n",
       " 'a84_21258_lavsink.jpg',\n",
       " 'a84_21259_lavsink.jpg',\n",
       " 'a84_21260_lavsink.jpg',\n",
       " 'a84_21261_lavsink.jpg',\n",
       " 'a84_21263_lavsink.jpg',\n",
       " 'a84_21264_shower.jpg',\n",
       " 'a84_21266_kitsink.jpg',\n",
       " 'a84_21268_revosm.jpg',\n",
       " 'a84_22040_toilet.jpg',\n",
       " 'a84_22041_toilet.jpg',\n",
       " 'a84_22042_kitsink.jpg',\n",
       " 'a84_22043_kitsink.jpg',\n",
       " 'a84_22044_revosm.jpg',\n",
       " 'a84_22045_revosm.jpg',\n",
       " 'a84_22046_revosm.jpg',\n",
       " 'a84_22047_revosm.jpg',\n",
       " 'a84_22052_kitsink.jpg',\n",
       " 'a84_22203_shower.jpg',\n",
       " 'a84_22766_kitsink.jpg',\n",
       " 'a84_22768_kitsink.jpg',\n",
       " 'a84_22769_shower.jpg',\n",
       " 'a84_22770_kitsink.jpg',\n",
       " 'a84_22797_revosm.jpg',\n",
       " 'a84_22837_kitsink.jpg',\n",
       " 'a84_22838_kitsink.jpg',\n",
       " 'a84_22839_kitsink.jpg',\n",
       " 'a84_22840_revosm.jpg',\n",
       " 'a84_22841_revosm.jpg',\n",
       " 'a84_22979_toilet.jpg',\n",
       " 'a84_22980_toilet.jpg',\n",
       " 'a84_22981_lavsink.jpg',\n",
       " 'a84_22983_lavsink.jpg',\n",
       " 'a84_22992_lavsink.jpg',\n",
       " 'a84_22993_lavsink.jpg',\n",
       " 'a84_23004_lavsink.jpg',\n",
       " 'a84_23005_lavsink.jpg',\n",
       " 'a84_23006_lavsink.jpg',\n",
       " 'a84_23007_lavsink.jpg',\n",
       " 'a84_23008_lavsink.jpg',\n",
       " 'a84_23011_lavsink.jpg',\n",
       " 'a84_23012_shower.jpg',\n",
       " 'a84_23013_kitsink.jpg',\n",
       " 'a84_23582_toilet.jpg',\n",
       " 'a84_23583_toilet.jpg',\n",
       " 'a84_23586_revosm.jpg',\n",
       " 'a84_23587_revosm.jpg',\n",
       " 'a84_24109_kitsink.jpg',\n",
       " 'a84_24150_kitsink.jpg',\n",
       " 'a84_24151_kitsink.jpg',\n",
       " 'a84_24153_revosm.jpg',\n",
       " 'a84_24255_toilet.jpg',\n",
       " 'a84_24256_toilet.jpg',\n",
       " 'a84_24257_lavsink.jpg',\n",
       " 'a84_24258_lavsink.jpg',\n",
       " 'a84_24264_lavsink.jpg',\n",
       " 'a84_24265_lavsink.jpg',\n",
       " 'a84_24266_kitsink.jpg',\n",
       " 'a84_24272_lavsink.jpg',\n",
       " 'a84_24273_lavsink.jpg',\n",
       " 'a84_24275_lavsink.jpg',\n",
       " 'a84_24276_lavsink.jpg',\n",
       " 'a84_24709_kitsink.jpg',\n",
       " 'a84_24710_revosm.jpg',\n",
       " 'a84_24711_revosm.jpg',\n",
       " 'a84_24712_revosm.jpg',\n",
       " 'a84_25144_kitsink.jpg',\n",
       " 'a84_25146_revosm.jpg',\n",
       " 'a84_25226_toilet.jpg',\n",
       " 'a84_25227_lavsink.jpg',\n",
       " 'a84_25228_lavsink.jpg',\n",
       " 'a84_25232_lavsink.jpg',\n",
       " 'a84_25237_lavsink.jpg',\n",
       " 'a84_25239_lavsink.jpg',\n",
       " 'a84_25578_toilet.jpg',\n",
       " 'a84_25579_kitsink.jpg',\n",
       " 'a84_25580_revosm.jpg',\n",
       " 'a84_25581_revosm.jpg',\n",
       " 'a84_25913_kitsink.jpg',\n",
       " 'a84_25914_kitsink.jpg',\n",
       " 'a84_25915_revosm.jpg',\n",
       " 'a84_25974_toilet.jpg',\n",
       " 'a84_25975_lavsink.jpg',\n",
       " 'a84_25976_lavsink.jpg',\n",
       " 'a84_25980_lavsink.jpg',\n",
       " 'a84_25984_lavsink.jpg',\n",
       " 'a84_26261_revosm.jpg',\n",
       " 'a84_26262_revosm.jpg',\n",
       " 'a84_26541_kitsink.jpg',\n",
       " 'a84_26591_lavsink.jpg',\n",
       " 'a84_26595_lavsink.jpg',\n",
       " 'a84_26599_lavsink.jpg',\n",
       " 'a84_26828_kitsink.jpg',\n",
       " 'a84_26830_revosm.jpg',\n",
       " 'a84_27041_kitsink.jpg',\n",
       " 'a84_27043_lavsink.jpg',\n",
       " 'a84_27044_lavsink.jpg',\n",
       " 'a84_27045_lavsink.jpg',\n",
       " 'a84_27046_shower.jpg',\n",
       " 'a84_27050_revosm.jpg',\n",
       " 'a84_27052_lavsink.jpg',\n",
       " 'a84_27053_shower.jpg',\n",
       " 'a84_27054_shower.jpg',\n",
       " 'a84_27055_kitsink.jpg',\n",
       " 'a84_27057_revosm.jpg',\n",
       " 'a84_27058_lavsink.jpg',\n",
       " 'a84_27059_lavsink.jpg',\n",
       " 'a84_27060_lavsink.jpg',\n",
       " 'a84_27061_shower.jpg',\n",
       " 'a84_27062_shower.jpg',\n",
       " 'a84_27064_kitsink.jpg',\n",
       " 'a84_27065_revosm.jpg',\n",
       " 'a84_27067_revosm.jpg',\n",
       " 'a84_27068_kitsink.jpg',\n",
       " 'a84_27070_revosm.jpg',\n",
       " 'a84_27072_kitsink.jpg',\n",
       " 'a84_27073_lavsink.jpg',\n",
       " 'a84_27075_lavsink.jpg',\n",
       " 'a84_27076_shower.jpg',\n",
       " 'a84_27077_shower.jpg',\n",
       " 'a84_27078_kitsink.jpg',\n",
       " 'a84_27079_kitsink.jpg',\n",
       " 'a84_27080_revosm.jpg',\n",
       " 'a84_27082_lavsink.jpg',\n",
       " 'a84_27084_shower.jpg',\n",
       " 'a84_27086_kitsink.jpg',\n",
       " 'a84_27087_revosm.jpg',\n",
       " 'a84_27088_revosm.jpg',\n",
       " 'a84_27089_lavsink.jpg',\n",
       " 'a84_27090_revosm.jpg',\n",
       " 'a84_2857_kitsink.jpg',\n",
       " 'a84_2859_toilet.jpg',\n",
       " 'a84_2862_shower.jpg',\n",
       " 'a84_2863_kitsink.jpg',\n",
       " 'a84_2864_kitsink.jpg',\n",
       " 'a84_2866_toilet.jpg',\n",
       " 'a84_2914_revosm.jpg',\n",
       " 'a84_2983_kitsink.jpg',\n",
       " 'a84_2985_kitsink.jpg',\n",
       " 'a84_2986_kitsink.jpg',\n",
       " 'a84_3189_toilet.jpg',\n",
       " 'a84_3191_lavsink.jpg',\n",
       " 'a84_3192_lavsink.jpg',\n",
       " 'a84_3197_revosm.jpg',\n",
       " 'a84_3207_lavsink.jpg',\n",
       " 'a84_3208_lavsink.jpg',\n",
       " 'a84_3210_lavsink.jpg',\n",
       " 'a84_3223_lavsink.jpg',\n",
       " 'a84_3224_lavsink.jpg',\n",
       " 'a84_3225_lavsink.jpg',\n",
       " 'a84_3227_lavsink.jpg',\n",
       " 'a84_3229_lavsink.jpg',\n",
       " 'a84_3230_lavsink.jpg',\n",
       " 'a84_3231_lavsink.jpg',\n",
       " 'a84_3232_shower.jpg',\n",
       " 'a84_3234_kitsink.jpg',\n",
       " 'a84_3235_kitsink.jpg',\n",
       " 'a84_3236_revosm.jpg',\n",
       " 'a84_384_toilet.jpg',\n",
       " 'a84_385_toilet.jpg',\n",
       " 'a84_386_toilet.jpg',\n",
       " 'a84_387_toilet.jpg',\n",
       " 'a84_389_toilet.jpg',\n",
       " 'a84_392_lavsink.jpg',\n",
       " 'a84_393_lavsink.jpg',\n",
       " 'a84_394_lavsink.jpg',\n",
       " 'a84_395_lavsink.jpg',\n",
       " 'a84_396_lavsink.jpg',\n",
       " 'a84_397_shower.jpg',\n",
       " 'a84_4008_toilet.jpg',\n",
       " 'a84_4011_kitsink.jpg',\n",
       " 'a84_4012_kitsink.jpg',\n",
       " 'a84_4013_kitsink.jpg',\n",
       " 'a84_404_kitsink.jpg',\n",
       " 'a84_405_kitsink.jpg',\n",
       " 'a84_407_revosm.jpg',\n",
       " 'a84_4171_shower.jpg',\n",
       " 'a84_421_lavsink.jpg',\n",
       " 'a84_424_lavsink.jpg',\n",
       " 'a84_426_lavsink.jpg',\n",
       " 'a84_427_lavsink.jpg',\n",
       " 'a84_428_lavsink.jpg',\n",
       " 'a84_429_shower.jpg',\n",
       " 'a84_430_shower.jpg',\n",
       " 'a84_436_kitsink.jpg',\n",
       " 'a84_438_revosm.jpg',\n",
       " 'a84_451_lavsink.jpg',\n",
       " 'a84_453_lavsink.jpg',\n",
       " 'a84_457_lavsink.jpg',\n",
       " 'a84_458_lavsink.jpg',\n",
       " 'a84_459_lavsink.jpg',\n",
       " 'a84_460_lavsink.jpg',\n",
       " 'a84_461_lavsink.jpg',\n",
       " 'a84_462_lavsink.jpg',\n",
       " 'a84_464_lavsink.jpg',\n",
       " 'a84_465_lavsink.jpg',\n",
       " 'a84_466_shower.jpg',\n",
       " 'a84_467_shower.jpg',\n",
       " 'a84_468_shower.jpg',\n",
       " 'a84_469_shower.jpg',\n",
       " 'a84_470_shower.jpg',\n",
       " 'a84_471_kitsink.jpg',\n",
       " 'a84_472_kitsink.jpg',\n",
       " 'a84_4734_kitsink.jpg',\n",
       " 'a84_4736_kitsink.jpg',\n",
       " 'a84_473_kitsink.jpg',\n",
       " 'a84_474_revosm.jpg',\n",
       " 'a84_4765_revosm.jpg',\n",
       " 'a84_4806_kitsink.jpg',\n",
       " 'a84_4807_kitsink.jpg',\n",
       " 'a84_4809_revosm.jpg',\n",
       " 'a84_4948_toilet.jpg',\n",
       " 'a84_4950_lavsink.jpg',\n",
       " 'a84_4951_lavsink.jpg',\n",
       " 'a84_4953_revosm.jpg',\n",
       " 'a84_4960_lavsink.jpg',\n",
       " 'a84_4961_lavsink.jpg',\n",
       " 'a84_4974_lavsink.jpg',\n",
       " 'a84_4975_lavsink.jpg',\n",
       " 'a84_4976_lavsink.jpg',\n",
       " 'a84_4977_lavsink.jpg',\n",
       " 'a84_4978_lavsink.jpg',\n",
       " 'a84_4979_lavsink.jpg',\n",
       " 'a84_4980_shower.jpg',\n",
       " 'a84_4981_kitsink.jpg',\n",
       " 'a84_5550_toilet.jpg',\n",
       " 'a84_5553_kitsink.jpg',\n",
       " 'a84_5554_revosm.jpg',\n",
       " 'a84_6091_revosm.jpg',\n",
       " 'a84_6118_kitsink.jpg',\n",
       " 'a84_6119_kitsink.jpg',\n",
       " 'a84_6120_kitsink.jpg',\n",
       " 'a84_6121_revosm.jpg',\n",
       " 'a84_61_kitsink.jpg',\n",
       " 'a84_6224_toilet.jpg',\n",
       " 'a84_6226_lavsink.jpg',\n",
       " 'a84_6233_lavsink.jpg',\n",
       " 'a84_6241_lavsink.jpg',\n",
       " 'a84_6243_lavsink.jpg',\n",
       " 'a84_6244_lavsink.jpg',\n",
       " 'a84_6245_lavsink.jpg',\n",
       " 'a84_62_kitsink.jpg',\n",
       " 'a84_63_kitsink.jpg',\n",
       " 'a84_6675_toilet.jpg',\n",
       " 'a84_6677_kitsink.jpg',\n",
       " 'a84_6678_kitsink.jpg',\n",
       " 'a84_66_revosm.jpg',\n",
       " 'a84_7112_kitsink.jpg',\n",
       " 'a84_7113_kitsink.jpg',\n",
       " 'a84_7114_revosm.jpg',\n",
       " 'a84_7194_toilet.jpg',\n",
       " 'a84_7205_lavsink.jpg',\n",
       " 'a84_7206_lavsink.jpg',\n",
       " 'a84_7207_lavsink.jpg',\n",
       " 'a84_7547_kitsink.jpg',\n",
       " 'a84_7548_kitsink.jpg',\n",
       " 'a84_7882_kitsink.jpg',\n",
       " 'a84_7942_toilet.jpg',\n",
       " 'a84_7944_lavsink.jpg',\n",
       " 'a84_7948_lavsink.jpg',\n",
       " 'a84_8228_kitsink.jpg',\n",
       " 'a84_8509_kitsink.jpg',\n",
       " 'a84_8510_kitsink.jpg',\n",
       " 'a84_8511_revosm.jpg',\n",
       " 'a84_8563_lavsink.jpg',\n",
       " 'a84_8567_lavsink.jpg',\n",
       " 'a84_8797_kitsink.jpg',\n",
       " 'a84_9078_kitsink.jpg',\n",
       " 'a84_9080_kitsink.jpg',\n",
       " 'a84_9082_revosm.jpg',\n",
       " 'a84_9401_toilet.jpg',\n",
       " 'a84_9402_toilet.jpg',\n",
       " 'a84_9408_lavsink.jpg',\n",
       " 'a84_9409_lavsink.jpg',\n",
       " 'a84_9410_lavsink.jpg',\n",
       " 'a84_9411_lavsink.jpg',\n",
       " 'a84_9412_lavsink.jpg',\n",
       " 'a84_9422_kitsink.jpg',\n",
       " 'a84_9423_revosm.jpg',\n",
       " 'a84_9425_toilet.jpg',\n",
       " 'a84_9439_lavsink.jpg',\n",
       " 'a84_9440_lavsink.jpg',\n",
       " 'a84_9442_lavsink.jpg',\n",
       " 'a84_9446_shower.jpg',\n",
       " 'a84_9452_kitsink.jpg',\n",
       " 'a84_9453_kitsink.jpg',\n",
       " 'a84_9468_lavsink.jpg',\n",
       " 'a84_9474_lavsink.jpg',\n",
       " 'a84_9475_lavsink.jpg',\n",
       " 'a84_9476_lavsink.jpg',\n",
       " 'a84_9477_lavsink.jpg',\n",
       " 'a84_9481_lavsink.jpg',\n",
       " 'a84_9483_shower.jpg',\n",
       " 'a84_9486_shower.jpg',\n",
       " 'a84_9487_kitsink.jpg',\n",
       " 'a84_9488_kitsink.jpg',\n",
       " 'a84_9490_revosm.jpg',\n",
       " 'a84_9491_revosm.jpg',\n",
       " 'a86_102_revosm.jpg',\n",
       " 'a86_1035_revosm.jpg',\n",
       " 'a86_1036_revosm.jpg',\n",
       " 'a86_1045_toilet.jpg',\n",
       " 'a86_1048_revosm.jpg',\n",
       " 'a86_104_kitsink.jpg',\n",
       " 'a86_105_lavsink.jpg',\n",
       " 'a86_1062_kitsink.jpg',\n",
       " 'a86_1063_revosm.jpg',\n",
       " 'a86_1064_revosm.jpg',\n",
       " 'a86_1069_toilet.jpg',\n",
       " 'a86_106_lavsink.jpg',\n",
       " 'a86_1070_lavsink.jpg',\n",
       " 'a86_1071_kitsink.jpg',\n",
       " 'a86_1072_kitsink.jpg',\n",
       " 'a86_1073_revosm.jpg',\n",
       " 'a86_1074_lavsink.jpg',\n",
       " 'a86_1075_kitsink.jpg',\n",
       " 'a86_1076_revosm.jpg',\n",
       " 'a86_1082_kitsink.jpg',\n",
       " 'a86_1083_revosm.jpg',\n",
       " 'a86_1085_kitsink.jpg',\n",
       " 'a86_1087_kitsink.jpg',\n",
       " 'a86_108_kitsink.jpg',\n",
       " 'a86_109_revosm.jpg',\n",
       " 'a86_110_revosm.jpg',\n",
       " 'a86_1111_revosm.jpg',\n",
       " 'a86_1115_lavsink.jpg',\n",
       " 'a86_1116_kitsink.jpg',\n",
       " 'a86_1118_lavsink.jpg',\n",
       " 'a86_1120_kitsink.jpg',\n",
       " 'a86_1121_revosm.jpg',\n",
       " 'a86_1122_revosm.jpg',\n",
       " 'a86_1134_toilet.jpg',\n",
       " 'a86_1137_revosm.jpg',\n",
       " 'a86_1141_toilet.jpg',\n",
       " 'a86_1142_revosm.jpg',\n",
       " 'a86_1152_revosm.jpg',\n",
       " 'a86_1156_kitsink.jpg',\n",
       " 'a86_1157_kitsink.jpg',\n",
       " 'a86_1158_revosm.jpg',\n",
       " 'a86_115_kitsink.jpg',\n",
       " 'a86_1160_kitsink.jpg',\n",
       " 'a86_1161_lavsink.jpg',\n",
       " 'a86_1162_lavsink.jpg',\n",
       " 'a86_1165_revosm.jpg',\n",
       " 'a86_1166_kitsink.jpg',\n",
       " 'a86_1167_kitsink.jpg',\n",
       " 'a86_1169_shower.jpg',\n",
       " 'a86_116_kitsink.jpg',\n",
       " 'a86_117_revosm.jpg',\n",
       " 'a86_1180_revosm.jpg',\n",
       " 'a86_1181_kitsink.jpg',\n",
       " 'a86_1182_lavsink.jpg',\n",
       " 'a86_1184_kitsink.jpg',\n",
       " 'a86_1185_kitsink.jpg',\n",
       " 'a86_1186_revosm.jpg',\n",
       " 'a86_118_revosm.jpg',\n",
       " 'a86_1194_revosm.jpg',\n",
       " 'a86_1198_revosm.jpg',\n",
       " 'a86_1202_revosm.jpg',\n",
       " 'a86_1203_lavsink.jpg',\n",
       " 'a86_1204_kitsink.jpg',\n",
       " 'a86_1206_kitsink.jpg',\n",
       " 'a86_1207_lavsink.jpg',\n",
       " 'a86_1208_kitsink.jpg',\n",
       " 'a86_1209_kitsink.jpg',\n",
       " 'a86_1221_revosm.jpg',\n",
       " 'a86_1223_kitsink.jpg',\n",
       " 'a86_1224_kitsink.jpg',\n",
       " 'a86_1230_revosm.jpg',\n",
       " 'a86_1236_revosm.jpg',\n",
       " 'a86_1237_lavsink.jpg',\n",
       " 'a86_1238_kitsink.jpg',\n",
       " 'a86_1239_kitsink.jpg',\n",
       " 'a86_1242_revosm.jpg',\n",
       " 'a86_1254_kitsink.jpg',\n",
       " 'a86_1255_kitsink.jpg',\n",
       " 'a86_1256_kitsink.jpg',\n",
       " 'a86_1261_revosm.jpg',\n",
       " 'a86_1264_revosm.jpg',\n",
       " 'a86_1268_kitsink.jpg',\n",
       " 'a86_1269_lavsink.jpg',\n",
       " 'a86_1280_kitsink.jpg',\n",
       " 'a86_1281_kitsink.jpg',\n",
       " 'a86_1284_revosm.jpg',\n",
       " 'a86_1288_kitsink.jpg',\n",
       " 'a86_1289_lavsink.jpg',\n",
       " 'a86_1290_kitsink.jpg',\n",
       " 'a86_1291_shower.jpg',\n",
       " 'a86_1297_revosm.jpg',\n",
       " 'a86_1299_kitsink.jpg',\n",
       " 'a86_1302_revosm.jpg',\n",
       " 'a86_1304_toilet.jpg',\n",
       " 'a86_1305_kitsink.jpg',\n",
       " 'a86_1306_revosm.jpg',\n",
       " 'a86_1307_lavsink.jpg',\n",
       " 'a86_1308_lavsink.jpg',\n",
       " 'a86_1309_lavsink.jpg',\n",
       " 'a86_1310_shower.jpg',\n",
       " 'a86_1311_shower.jpg',\n",
       " 'a86_1312_kitsink.jpg',\n",
       " 'a86_1313_kitsink.jpg',\n",
       " 'a86_1314_revosm.jpg',\n",
       " 'a86_1315_lavsink.jpg',\n",
       " 'a86_1316_lavsink.jpg',\n",
       " 'a86_1317_shower.jpg',\n",
       " 'a86_1318_shower.jpg',\n",
       " 'a86_1319_kitsink.jpg',\n",
       " 'a86_1320_kitsink.jpg',\n",
       " 'a86_1322_lavsink.jpg',\n",
       " 'a86_1324_lavsink.jpg',\n",
       " 'a86_1325_shower.jpg',\n",
       " 'a86_1326_shower.jpg',\n",
       " 'a86_1327_kitsink.jpg',\n",
       " 'a86_1328_kitsink.jpg',\n",
       " 'a86_1329_revosm.jpg',\n",
       " 'a86_1330_kitsink.jpg',\n",
       " 'a86_1331_revosm.jpg',\n",
       " 'a86_1332_kitsink.jpg',\n",
       " 'a86_1333_shower.jpg',\n",
       " 'a86_1335_kitsink.jpg',\n",
       " 'a86_1336_kitsink.jpg',\n",
       " 'a86_1337_lavsink.jpg',\n",
       " 'a86_1339_lavsink.jpg',\n",
       " 'a86_1340_shower.jpg',\n",
       " 'a86_1341_shower.jpg',\n",
       " 'a86_1342_kitsink.jpg',\n",
       " 'a86_1343_kitsink.jpg',\n",
       " 'a86_1344_revosm.jpg',\n",
       " 'a86_1345_lavsink.jpg',\n",
       " 'a86_1346_lavsink.jpg',\n",
       " 'a86_1348_shower.jpg',\n",
       " 'a86_1349_kitsink.jpg',\n",
       " 'a86_1350_kitsink.jpg',\n",
       " 'a86_1351_revosm.jpg',\n",
       " 'a86_1352_revosm.jpg',\n",
       " 'a86_1353_lavsink.jpg',\n",
       " 'a86_1354_revosm.jpg',\n",
       " 'a86_166_revosm.jpg',\n",
       " 'a86_175_lavsink.jpg',\n",
       " 'a86_177_revosm.jpg',\n",
       " 'a86_17_lavsink.jpg',\n",
       " 'a86_18_lavsink.jpg',\n",
       " 'a86_193_revosm.jpg',\n",
       " 'a86_19_kitsink.jpg',\n",
       " 'a86_201_kitsink.jpg',\n",
       " 'a86_202_kitsink.jpg',\n",
       " 'a86_203_revosm.jpg',\n",
       " 'a86_205_kitsink.jpg',\n",
       " 'a86_212_kitsink.jpg',\n",
       " 'a86_213_revosm.jpg',\n",
       " 'a86_217_kitsink.jpg',\n",
       " 'a86_23_kitsink.jpg',\n",
       " 'a86_241_revosm.jpg',\n",
       " 'a86_242_revosm.jpg',\n",
       " 'a86_243_kitsink.jpg',\n",
       " 'a86_244_lavsink.jpg',\n",
       " 'a86_245_lavsink.jpg',\n",
       " 'a86_246_kitsink.jpg',\n",
       " 'a86_247_revosm.jpg',\n",
       " 'a86_248_lavsink.jpg',\n",
       " 'a86_24_kitsink.jpg',\n",
       " 'a86_250_kitsink.jpg',\n",
       " 'a86_251_revosm.jpg',\n",
       " 'a86_252_revosm.jpg',\n",
       " 'a86_264_toilet.jpg',\n",
       " 'a86_266_revosm.jpg',\n",
       " 'a86_267_revosm.jpg',\n",
       " 'a86_26_revosm.jpg',\n",
       " 'a86_271_toilet.jpg',\n",
       " 'a86_272_revosm.jpg',\n",
       " 'a86_282_revosm.jpg',\n",
       " 'a86_285_lavsink.jpg',\n",
       " 'a86_286_kitsink.jpg',\n",
       " 'a86_287_kitsink.jpg',\n",
       " 'a86_288_revosm.jpg',\n",
       " 'a86_289_lavsink.jpg',\n",
       " 'a86_28_kitsink.jpg',\n",
       " 'a86_290_kitsink.jpg',\n",
       " 'a86_291_lavsink.jpg',\n",
       " 'a86_294_kitsink.jpg',\n",
       " 'a86_295_revosm.jpg',\n",
       " 'a86_296_kitsink.jpg',\n",
       " 'a86_297_kitsink.jpg',\n",
       " 'a86_299_shower.jpg',\n",
       " 'a86_29_kitsink.jpg',\n",
       " 'a86_30_revosm.jpg',\n",
       " 'a86_310_revosm.jpg',\n",
       " 'a86_313_lavsink.jpg',\n",
       " 'a86_315_kitsink.jpg',\n",
       " 'a86_31_lavsink.jpg',\n",
       " 'a86_328_revosm.jpg',\n",
       " 'a86_32_lavsink.jpg',\n",
       " 'a86_333_lavsink.jpg',\n",
       " 'a86_334_kitsink.jpg',\n",
       " 'a86_335_lavsink.jpg',\n",
       " 'a86_336_kitsink.jpg',\n",
       " 'a86_338_kitsink.jpg',\n",
       " 'a86_351_revosm.jpg',\n",
       " 'a86_352_kitsink.jpg',\n",
       " 'a86_353_kitsink.jpg',\n",
       " 'a86_354_kitsink.jpg',\n",
       " 'a86_35_lavsink.jpg',\n",
       " 'a86_360_revosm.jpg',\n",
       " 'a86_363_revosm.jpg',\n",
       " 'a86_366_revosm.jpg',\n",
       " 'a86_367_lavsink.jpg',\n",
       " 'a86_368_kitsink.jpg',\n",
       " 'a86_369_kitsink.jpg',\n",
       " 'a86_36_lavsink.jpg',\n",
       " 'a86_370_lavsink.jpg',\n",
       " 'a86_371_kitsink.jpg',\n",
       " 'a86_372_revosm.jpg',\n",
       " 'a86_383_revosm.jpg',\n",
       " 'a86_385_kitsink.jpg',\n",
       " 'a86_386_kitsink.jpg',\n",
       " 'a86_38_kitsink.jpg',\n",
       " 'a86_394_revosm.jpg',\n",
       " 'a86_396_lavsink.jpg',\n",
       " 'a86_398_kitsink.jpg',\n",
       " 'a86_399_lavsink.jpg',\n",
       " 'a86_3_kitsink.jpg',\n",
       " 'a86_400_kitsink.jpg',\n",
       " 'a86_409_kitsink.jpg',\n",
       " 'a86_410_kitsink.jpg',\n",
       " 'a86_411_kitsink.jpg',\n",
       " 'a86_418_kitsink.jpg',\n",
       " 'a86_419_lavsink.jpg',\n",
       " 'a86_427_revosm.jpg',\n",
       " 'a86_428_kitsink.jpg',\n",
       " 'a86_429_kitsink.jpg',\n",
       " 'a86_42_kitsink.jpg',\n",
       " 'a86_434_toilet.jpg',\n",
       " 'a86_439_kitsink.jpg',\n",
       " 'a86_43_revosm.jpg',\n",
       " 'a86_450_toilet.jpg',\n",
       " 'a86_451_lavsink.jpg',\n",
       " 'a86_452_lavsink.jpg',\n",
       " 'a86_458_kitsink.jpg',\n",
       " 'a86_459_kitsink.jpg',\n",
       " 'a86_460_revosm.jpg',\n",
       " 'a86_461_revosm.jpg',\n",
       " 'a86_462_lavsink.jpg',\n",
       " 'a86_463_kitsink.jpg',\n",
       " 'a86_464_kitsink.jpg',\n",
       " 'a86_465_revosm.jpg',\n",
       " 'a86_466_lavsink.jpg',\n",
       " 'a86_470_lavsink.jpg',\n",
       " 'a86_471_lavsink.jpg',\n",
       " 'a86_472_lavsink.jpg',\n",
       " 'a86_477_kitsink.jpg',\n",
       " 'a86_478_revosm.jpg',\n",
       " 'a86_485_toilet.jpg',\n",
       " 'a86_488_kitsink.jpg',\n",
       " 'a86_489_kitsink.jpg',\n",
       " 'a86_490_revosm.jpg',\n",
       " 'a86_491_revosm.jpg',\n",
       " 'a86_495_kitsink.jpg',\n",
       " 'a86_496_kitsink.jpg',\n",
       " 'a86_4_kitsink.jpg',\n",
       " 'a86_50_toilet.jpg',\n",
       " 'a86_538_revosm.jpg',\n",
       " 'a86_540_lavsink.jpg',\n",
       " 'a86_543_kitsink.jpg',\n",
       " 'a86_544_revosm.jpg',\n",
       " 'a86_545_revosm.jpg',\n",
       " 'a86_547_lavsink.jpg',\n",
       " 'a86_550_kitsink.jpg',\n",
       " 'a86_552_revosm.jpg',\n",
       " 'a86_55_kitsink.jpg',\n",
       " 'a86_56_revosm.jpg',\n",
       " 'a86_5_revosm.jpg',\n",
       " 'a86_600_revosm.jpg',\n",
       " 'a86_601_revosm.jpg',\n",
       " 'a86_610_toilet.jpg',\n",
       " 'a86_612_revosm.jpg',\n",
       " 'a86_613_revosm.jpg',\n",
       " 'a86_627_kitsink.jpg',\n",
       " 'a86_628_revosm.jpg',\n",
       " 'a86_629_revosm.jpg',\n",
       " 'a86_634_toilet.jpg',\n",
       " 'a86_635_lavsink.jpg',\n",
       " 'a86_637_kitsink.jpg',\n",
       " 'a86_638_revosm.jpg',\n",
       " 'a86_639_lavsink.jpg',\n",
       " 'a86_640_kitsink.jpg',\n",
       " 'a86_641_revosm.jpg',\n",
       " 'a86_643_lavsink.jpg',\n",
       " 'a86_647_kitsink.jpg',\n",
       " 'a86_651_kitsink.jpg',\n",
       " 'a86_652_revosm.jpg',\n",
       " 'a86_676_revosm.jpg',\n",
       " 'a86_677_revosm.jpg',\n",
       " 'a86_678_kitsink.jpg',\n",
       " 'a86_679_lavsink.jpg',\n",
       " 'a86_680_lavsink.jpg',\n",
       " 'a86_681_kitsink.jpg',\n",
       " 'a86_682_revosm.jpg',\n",
       " 'a86_683_lavsink.jpg',\n",
       " 'a86_684_shower.jpg',\n",
       " 'a86_685_kitsink.jpg',\n",
       " 'a86_686_revosm.jpg',\n",
       " 'a86_687_revosm.jpg',\n",
       " 'a86_699_toilet.jpg',\n",
       " 'a86_6_revosm.jpg',\n",
       " 'a86_702_revosm.jpg',\n",
       " 'a86_706_toilet.jpg',\n",
       " 'a86_707_revosm.jpg',\n",
       " 'a86_716_kitsink.jpg',\n",
       " 'a86_717_revosm.jpg',\n",
       " 'a86_720_lavsink.jpg',\n",
       " 'a86_721_kitsink.jpg',\n",
       " 'a86_722_kitsink.jpg',\n",
       " 'a86_723_revosm.jpg',\n",
       " 'a86_724_lavsink.jpg',\n",
       " 'a86_725_kitsink.jpg',\n",
       " 'a86_730_revosm.jpg',\n",
       " 'a86_731_kitsink.jpg',\n",
       " 'a86_732_revosm.jpg',\n",
       " 'a86_734_shower.jpg',\n",
       " 'a86_745_revosm.jpg',\n",
       " 'a86_747_lavsink.jpg',\n",
       " 'a86_748_lavsink.jpg',\n",
       " 'a86_749_kitsink.jpg',\n",
       " 'a86_750_kitsink.jpg',\n",
       " 'a86_751_revosm.jpg',\n",
       " 'a86_759_revosm.jpg',\n",
       " 'a86_763_revosm.jpg',\n",
       " 'a86_767_revosm.jpg',\n",
       " 'a86_771_kitsink.jpg',\n",
       " 'a86_772_lavsink.jpg',\n",
       " 'a86_773_kitsink.jpg',\n",
       " 'a86_774_revosm.jpg',\n",
       " 'a86_776_shower.jpg',\n",
       " 'a86_787_kitsink.jpg',\n",
       " 'a86_788_kitsink.jpg',\n",
       " 'a86_789_kitsink.jpg',\n",
       " 'a86_795_revosm.jpg',\n",
       " 'a86_798_revosm.jpg',\n",
       " 'a86_7_revosm.jpg',\n",
       " 'a86_802_lavsink.jpg',\n",
       " 'a86_804_kitsink.jpg',\n",
       " 'a86_805_lavsink.jpg',\n",
       " 'a86_807_revosm.jpg',\n",
       " 'a86_818_revosm.jpg',\n",
       " 'a86_819_kitsink.jpg',\n",
       " 'a86_820_kitsink.jpg',\n",
       " 'a86_821_kitsink.jpg',\n",
       " 'a86_826_revosm.jpg',\n",
       " 'a86_829_revosm.jpg',\n",
       " 'a86_831_lavsink.jpg',\n",
       " 'a86_832_kitsink.jpg',\n",
       " 'a86_833_kitsink.jpg',\n",
       " 'a86_844_kitsink.jpg',\n",
       " 'a86_845_kitsink.jpg',\n",
       " 'a86_846_kitsink.jpg',\n",
       " 'a86_852_revosm.jpg',\n",
       " 'a86_853_kitsink.jpg',\n",
       " 'a86_854_lavsink.jpg',\n",
       " 'a86_855_kitsink.jpg',\n",
       " 'a86_856_shower.jpg',\n",
       " 'a86_862_revosm.jpg',\n",
       " 'a86_863_kitsink.jpg',\n",
       " 'a86_864_kitsink.jpg',\n",
       " 'a86_873_kitsink.jpg',\n",
       " 'a86_874_kitsink.jpg',\n",
       " 'a86_875_revosm.jpg',\n",
       " 'a86_876_revosm.jpg',\n",
       " 'a86_877_revosm.jpg',\n",
       " 'a86_886_lavsink.jpg',\n",
       " 'a86_887_lavsink.jpg',\n",
       " 'a86_888_lavsink.jpg',\n",
       " 'a86_889_kitsink.jpg',\n",
       " 'a86_893_kitsink.jpg',\n",
       " 'a86_894_kitsink.jpg',\n",
       " 'a86_895_revosm.jpg',\n",
       " 'a86_896_revosm.jpg',\n",
       " 'a86_897_lavsink.jpg',\n",
       " 'a86_898_kitsink.jpg',\n",
       " 'a86_899_kitsink.jpg',\n",
       " 'a86_900_revosm.jpg',\n",
       " 'a86_901_lavsink.jpg',\n",
       " 'a86_902_lavsink.jpg',\n",
       " 'a86_903_lavsink.jpg',\n",
       " 'a86_904_lavsink.jpg',\n",
       " 'a86_905_lavsink.jpg',\n",
       " 'a86_906_lavsink.jpg',\n",
       " 'a86_908_kitsink.jpg',\n",
       " 'a86_912_kitsink.jpg',\n",
       " 'a86_913_revosm.jpg',\n",
       " 'a86_920_toilet.jpg',\n",
       " 'a86_924_kitsink.jpg',\n",
       " 'a86_925_kitsink.jpg',\n",
       " 'a86_930_kitsink.jpg',\n",
       " 'a86_931_kitsink.jpg',\n",
       " 'a86_972_revosm.jpg',\n",
       " 'a86_973_revosm.jpg',\n",
       " 'a86_974_kitsink.jpg',\n",
       " 'a86_975_lavsink.jpg',\n",
       " 'a86_976_lavsink.jpg',\n",
       " 'a86_978_kitsink.jpg',\n",
       " 'a86_979_revosm.jpg',\n",
       " 'a86_980_revosm.jpg',\n",
       " 'a86_982_lavsink.jpg',\n",
       " 'a86_985_kitsink.jpg',\n",
       " 'a86_986_kitsink.jpg',\n",
       " 'a86_987_revosm.jpg',\n",
       " 'a86_988_revosm.jpg',\n",
       " 'h640_100_lavsink.jpg',\n",
       " 'h640_100_toilet.jpg',\n",
       " 'h640_101_lavsink.jpg',\n",
       " 'h640_101_toilet.jpg',\n",
       " 'h640_102_lavsink.jpg',\n",
       " 'h640_103_lavsink.jpg',\n",
       " 'h640_103_toilet.jpg',\n",
       " 'h640_104_lavsink.jpg',\n",
       " 'h640_104_toilet.jpg',\n",
       " 'h640_105_lavsink.jpg',\n",
       " 'h640_105_toilet.jpg',\n",
       " 'h640_106_lavsink.jpg',\n",
       " 'h640_106_toilet.jpg',\n",
       " 'h640_107_lavsink.jpg',\n",
       " 'h640_107_toilet.jpg',\n",
       " 'h640_108_lavsink.jpg',\n",
       " 'h640_108_toilet.jpg',\n",
       " 'h640_10_shower.jpg',\n",
       " 'h640_10_washer.jpg',\n",
       " 'h640_110_lavsink.jpg',\n",
       " 'h640_110_toilet.jpg',\n",
       " 'h640_111_lavsink.jpg',\n",
       " 'h640_111_toilet.jpg',\n",
       " 'h640_112_lavsink.jpg',\n",
       " 'h640_112_toilet.jpg',\n",
       " 'h640_113_lavsink.jpg',\n",
       " 'h640_113_toilet.jpg',\n",
       " 'h640_114_lavsink.jpg',\n",
       " 'h640_114_toilet.jpg',\n",
       " 'h640_115_lavsink.jpg',\n",
       " 'h640_115_toilet.jpg',\n",
       " 'h640_116_lavsink.jpg',\n",
       " 'h640_116_toilet.jpg',\n",
       " 'h640_117_toilet.jpg',\n",
       " 'h640_118_lavsink.jpg',\n",
       " 'h640_118_toilet.jpg',\n",
       " 'h640_119_toilet.jpg',\n",
       " 'h640_11_shower.jpg',\n",
       " 'h640_11_washer.jpg',\n",
       " 'h640_120_toilet.jpg',\n",
       " 'h640_121_toilet.jpg',\n",
       " 'h640_122_lavsink.jpg',\n",
       " 'h640_122_toilet.jpg',\n",
       " 'h640_123_toilet.jpg',\n",
       " 'h640_126_lavsink.jpg',\n",
       " 'h640_127_lavsink.jpg',\n",
       " 'h640_128_lavsink.jpg',\n",
       " 'h640_129_lavsink.jpg',\n",
       " 'h640_12_shower.jpg',\n",
       " 'h640_12_washer.jpg',\n",
       " 'h640_130_lavsink.jpg',\n",
       " 'h640_13_shower.jpg',\n",
       " 'h640_13_washer.jpg',\n",
       " 'h640_14_washer.jpg',\n",
       " 'h640_15_shower.jpg',\n",
       " 'h640_161_kitsink.jpg',\n",
       " 'h640_162_kitsink.jpg',\n",
       " 'h640_163_kitsink.jpg',\n",
       " 'h640_164_kitsink.jpg',\n",
       " 'h640_166_kitsink.jpg',\n",
       " 'h640_167_kitsink.jpg',\n",
       " 'h640_168_kitsink.jpg',\n",
       " 'h640_169_kitsink.jpg',\n",
       " 'h640_16_dishwasher.jpg',\n",
       " 'h640_16_washer.jpg',\n",
       " 'h640_170_kitsink.jpg',\n",
       " 'h640_172_kitsink.jpg',\n",
       " 'h640_173_kitsink.jpg',\n",
       " 'h640_174_kitsink.jpg',\n",
       " 'h640_175_kitsink.jpg',\n",
       " 'h640_177_kitsink.jpg',\n",
       " 'h640_178_kitsink.jpg',\n",
       " 'h640_179_kitsink.jpg',\n",
       " 'h640_17_shower.jpg',\n",
       " 'h640_17_washer.jpg',\n",
       " 'h640_180_kitsink.jpg',\n",
       " 'h640_181_kitsink.jpg',\n",
       " 'h640_182_kitsink.jpg',\n",
       " 'h640_183_kitsink.jpg',\n",
       " 'h640_184_kitsink.jpg',\n",
       " 'h640_185_kitsink.jpg',\n",
       " 'h640_187_kitsink.jpg',\n",
       " 'h640_188_kitsink.jpg',\n",
       " 'h640_189_kitsink.jpg',\n",
       " 'h640_18_dishwasher.jpg',\n",
       " 'h640_18_shower.jpg',\n",
       " 'h640_18_washer.jpg',\n",
       " 'h640_190_kitsink.jpg',\n",
       " 'h640_191_kitsink.jpg',\n",
       " 'h640_192_kitsink.jpg',\n",
       " 'h640_194_kitsink.jpg',\n",
       " 'h640_195_kitsink.jpg',\n",
       " 'h640_196_kitsink.jpg',\n",
       " 'h640_197_kitsink.jpg',\n",
       " 'h640_19_washer.jpg',\n",
       " 'h640_201_kitsink.jpg',\n",
       " 'h640_202_kitsink.jpg',\n",
       " 'h640_203_kitsink.jpg',\n",
       " 'h640_205_kitsink.jpg',\n",
       " 'h640_206_kitsink.jpg',\n",
       " 'h640_207_kitsink.jpg',\n",
       " 'h640_209_kitsink.jpg',\n",
       " 'h640_20_dishwasher.jpg',\n",
       " 'h640_20_shower.jpg',\n",
       " 'h640_20_washer.jpg',\n",
       " 'h640_210_kitsink.jpg',\n",
       " 'h640_211_kitsink.jpg',\n",
       " 'h640_212_kitsink.jpg',\n",
       " 'h640_213_kitsink.jpg',\n",
       " 'h640_214_kitsink.jpg',\n",
       " 'h640_215_kitsink.jpg',\n",
       " 'h640_219_kitsink.jpg',\n",
       " 'h640_21_shower.jpg',\n",
       " 'h640_220_kitsink.jpg',\n",
       " 'h640_221_kitsink.jpg',\n",
       " 'h640_222_kitsink.jpg',\n",
       " 'h640_223_kitsink.jpg',\n",
       " 'h640_224_kitsink.jpg',\n",
       " 'h640_225_kitsink.jpg',\n",
       " 'h640_226_kitsink.jpg',\n",
       " 'h640_227_kitsink.jpg',\n",
       " ...]"
      ]
     },
     "execution_count": 3,
     "metadata": {},
     "output_type": "execute_result"
    }
   ],
   "source": [
    "file_list"
   ]
  },
  {
   "cell_type": "code",
   "execution_count": 4,
   "id": "sexual-observation",
   "metadata": {},
   "outputs": [],
   "source": [
    "obs = pd.Series(file_list[:-2]).apply(lambda x:x.split('.')[0].split('_')[2])"
   ]
  },
  {
   "cell_type": "code",
   "execution_count": 5,
   "id": "alive-italy",
   "metadata": {},
   "outputs": [
    {
     "data": {
      "text/plain": [
       "kitsink       864\n",
       "lavsink       443\n",
       "revosm        395\n",
       "toilet        261\n",
       "shower        102\n",
       "washer         31\n",
       "dishwasher     28\n",
       "dtype: int64"
      ]
     },
     "execution_count": 5,
     "metadata": {},
     "output_type": "execute_result"
    }
   ],
   "source": [
    "obs.value_counts()"
   ]
  },
  {
   "cell_type": "code",
   "execution_count": 6,
   "id": "little-folks",
   "metadata": {},
   "outputs": [
    {
     "data": {
      "text/plain": [
       "array(['kitsink', 'revosm', 'toilet', 'shower', 'lavsink', 'washer',\n",
       "       'dishwasher'], dtype=object)"
      ]
     },
     "execution_count": 6,
     "metadata": {},
     "output_type": "execute_result"
    }
   ],
   "source": [
    "obs.unique()"
   ]
  },
  {
   "cell_type": "code",
   "execution_count": 10,
   "id": "brave-vietnam",
   "metadata": {},
   "outputs": [],
   "source": [
    "#os.mkdir(imagePath + 'train')\n",
    "#os.mkdir(imagePath + 'test')"
   ]
  },
  {
   "cell_type": "code",
   "execution_count": 23,
   "id": "criminal-copper",
   "metadata": {},
   "outputs": [],
   "source": [
    "# Split test files\n",
    "\n",
    "# for o in obs.unique():\n",
    "#     temp = obs[obs==o]\n",
    "#     test_num = int(np.ceil(len(temp)*0.20))\n",
    "#     test_idx = np.random.choice(temp.index, size=test_num, replace=False)\n",
    "#     test_files = pd.Series(file_list)[test_idx]\n",
    "#     for f in test_files:\n",
    "#         shutil.move(imagePath+f, imagePath+'test/'+f)"
   ]
  },
  {
   "cell_type": "code",
   "execution_count": 24,
   "id": "treated-reduction",
   "metadata": {},
   "outputs": [],
   "source": [
    "# Move train files\n",
    "\n",
    "# train_image_list = pd.Series(os.listdir(imagePath))[pd.Series(os.listdir(imagePath)).str.contains('.jpg')]\n",
    "# for f in train_image_list:\n",
    "#     shutil.move(imagePath+f, imagePath+'train/'+f)"
   ]
  },
  {
   "cell_type": "code",
   "execution_count": 30,
   "id": "understood-employment",
   "metadata": {},
   "outputs": [
    {
     "data": {
      "text/plain": [
       "array([449, 421, 653], dtype=int64)"
      ]
     },
     "execution_count": 30,
     "metadata": {},
     "output_type": "execute_result"
    }
   ],
   "source": [
    "np.random.choice(obs[obs=='kitsink'].index, size=3)"
   ]
  },
  {
   "cell_type": "code",
   "execution_count": 8,
   "id": "handmade-headline",
   "metadata": {},
   "outputs": [],
   "source": [
    "import warnings\n",
    "warnings.filterwarnings('ignore')\n",
    "\n",
    "import tensorflow as tf\n",
    "from tensorflow.keras.models import Model, load_model\n",
    "from tensorflow.keras.layers import Input, Conv2D, MaxPooling2D, concatenate, Conv2DTranspose\n",
    "from tensorflow.keras.layers import Dropout, Flatten, Dense\n",
    "from tensorflow.keras.optimizers import Adam\n",
    "from sklearn.preprocessing import OneHotEncoder, LabelEncoder, LabelBinarizer\n",
    "from tensorflow.keras.utils import to_categorical\n",
    "from sklearn.metrics import accuracy_score, confusion_matrix, multilabel_confusion_matrix, plot_confusion_matrix\n",
    "from mlxtend.evaluate import accuracy_score as mlaccuracy\n",
    "import imageio\n",
    "import matplotlib as mpl\n",
    "from matplotlib import pyplot as plt \n",
    "import os\n",
    "import cv2\n",
    "import numpy as np\n",
    "import math\n",
    "import random\n",
    "from tensorflow.keras.callbacks import ModelCheckpoint\n",
    "from tensorflow.keras.callbacks import CSVLogger\n",
    "from tensorflow.keras.callbacks import TensorBoard\n",
    "from datetime import datetime"
   ]
  },
  {
   "cell_type": "code",
   "execution_count": 9,
   "id": "expected-windsor",
   "metadata": {},
   "outputs": [],
   "source": [
    "def ohe(label_array):\n",
    "    encShape = (label_array.size, len(pd.Series(label_array).unique()))\n",
    "    encRows = np.arange(encShape[0])\n",
    "    uni,pos = np.unique(label_array, return_inverse=True)\n",
    "    label_arrayEnc = np.zeros(encShape)\n",
    "    label_arrayEnc[encRows, pos] = 1\n",
    "    return label_arrayEnc, uni"
   ]
  },
  {
   "cell_type": "code",
   "execution_count": 10,
   "id": "caring-charter",
   "metadata": {},
   "outputs": [],
   "source": [
    "# Pull images into list and encode labels for train/validation\n",
    "\n",
    "trainPath = imagePath + '/train/'\n",
    "valPath = imagePath + '/test/'\n",
    "\n",
    "trainImgs = pd.Series(list(os.listdir(trainPath)))\n",
    "trainLabels = np.array(trainImgs.apply(lambda x:x.split('_')[2].split('.')[0]))\n",
    "#trainLabelsEnc = ohe.fit_transform(trainLabels)\n",
    "trainLabelsEnc, trainLabSeq = ohe(trainLabels)\n",
    "\n",
    "valImgs = pd.Series(list(os.listdir(valPath)))\n",
    "valLabels = np.array(valImgs.apply(lambda x:x.split('_')[2].split('.')[0]))\n",
    "#valLabelsEnc = ohe.fit_transform(valLabels)\n",
    "valLabelsEnc, valLabSeq = ohe(valLabels)"
   ]
  },
  {
   "cell_type": "code",
   "execution_count": 11,
   "id": "aboriginal-czech",
   "metadata": {},
   "outputs": [
    {
     "name": "stdout",
     "output_type": "stream",
     "text": [
      "One hot encoding sequences:\n",
      " ['dishwasher' 'kitsink' 'lavsink' 'revosm' 'shower' 'toilet' 'washer'] \n",
      " ['dishwasher' 'kitsink' 'lavsink' 'revosm' 'shower' 'toilet' 'washer']\n"
     ]
    }
   ],
   "source": [
    "print('One hot encoding sequences:\\n', trainLabSeq, '\\n', valLabSeq)"
   ]
  },
  {
   "cell_type": "code",
   "execution_count": 12,
   "id": "sitting-interface",
   "metadata": {},
   "outputs": [
    {
     "data": {
      "text/plain": [
       "array([[0., 1., 0., 0., 0., 0., 0.],\n",
       "       [0., 1., 0., 0., 0., 0., 0.],\n",
       "       [0., 1., 0., 0., 0., 0., 0.],\n",
       "       [0., 0., 0., 0., 1., 0., 0.],\n",
       "       [0., 0., 0., 0., 1., 0., 0.],\n",
       "       [0., 1., 0., 0., 0., 0., 0.],\n",
       "       [0., 0., 0., 1., 0., 0., 0.],\n",
       "       [0., 1., 0., 0., 0., 0., 0.],\n",
       "       [0., 0., 1., 0., 0., 0., 0.],\n",
       "       [0., 0., 1., 0., 0., 0., 0.]])"
      ]
     },
     "execution_count": 12,
     "metadata": {},
     "output_type": "execute_result"
    }
   ],
   "source": [
    "valLabelsEnc[:10]"
   ]
  },
  {
   "cell_type": "code",
   "execution_count": 13,
   "id": "growing-black",
   "metadata": {
    "scrolled": true
   },
   "outputs": [
    {
     "data": {
      "text/plain": [
       "array(['kitsink', 'kitsink', 'kitsink', 'shower', 'shower', 'kitsink',\n",
       "       'revosm', 'kitsink', 'lavsink', 'lavsink'], dtype=object)"
      ]
     },
     "execution_count": 13,
     "metadata": {},
     "output_type": "execute_result"
    }
   ],
   "source": [
    "valLabels[:10]"
   ]
  },
  {
   "cell_type": "code",
   "execution_count": 14,
   "id": "backed-research",
   "metadata": {},
   "outputs": [
    {
     "data": {
      "text/plain": [
       "array([[0., 1., 0., 0., 0., 0., 0.],\n",
       "       [0., 1., 0., 0., 0., 0., 0.],\n",
       "       [0., 1., 0., 0., 0., 0., 0.],\n",
       "       [0., 0., 0., 1., 0., 0., 0.],\n",
       "       [0., 1., 0., 0., 0., 0., 0.],\n",
       "       [0., 0., 0., 0., 0., 1., 0.],\n",
       "       [0., 0., 0., 0., 1., 0., 0.],\n",
       "       [0., 1., 0., 0., 0., 0., 0.],\n",
       "       [0., 1., 0., 0., 0., 0., 0.],\n",
       "       [0., 0., 0., 1., 0., 0., 0.]])"
      ]
     },
     "execution_count": 14,
     "metadata": {},
     "output_type": "execute_result"
    }
   ],
   "source": [
    "trainLabelsEnc[:10]"
   ]
  },
  {
   "cell_type": "code",
   "execution_count": 15,
   "id": "cardiac-encyclopedia",
   "metadata": {},
   "outputs": [
    {
     "data": {
      "text/plain": [
       "array(['kitsink', 'kitsink', 'kitsink', 'revosm', 'kitsink', 'toilet',\n",
       "       'shower', 'kitsink', 'kitsink', 'revosm'], dtype=object)"
      ]
     },
     "execution_count": 15,
     "metadata": {},
     "output_type": "execute_result"
    }
   ],
   "source": [
    "trainLabels[:10]"
   ]
  },
  {
   "cell_type": "code",
   "execution_count": 17,
   "id": "manual-guarantee",
   "metadata": {},
   "outputs": [
    {
     "data": {
      "text/plain": [
       "0      a84_10700_kitsink.jpg\n",
       "1      a84_11873_kitsink.jpg\n",
       "2      a84_12002_kitsink.jpg\n",
       "3       a84_12248_shower.jpg\n",
       "4       a84_12249_shower.jpg\n",
       "               ...          \n",
       "532      h641_917_toilet.jpg\n",
       "533      h641_927_toilet.jpg\n",
       "534      h641_945_revosm.jpg\n",
       "535      h641_995_revosm.jpg\n",
       "536      h641_997_toilet.jpg\n",
       "Length: 537, dtype: object"
      ]
     },
     "execution_count": 17,
     "metadata": {},
     "output_type": "execute_result"
    }
   ],
   "source": [
    "valImgs"
   ]
  },
  {
   "cell_type": "code",
   "execution_count": 18,
   "id": "friendly-reach",
   "metadata": {},
   "outputs": [
    {
     "data": {
      "text/plain": [
       "0       a84_10699_kitsink.jpg\n",
       "1       a84_10701_kitsink.jpg\n",
       "2       a84_10702_kitsink.jpg\n",
       "3        a84_10703_revosm.jpg\n",
       "4       a84_11871_kitsink.jpg\n",
       "                ...          \n",
       "2121     h641_993_lavsink.jpg\n",
       "2122     h641_994_kitsink.jpg\n",
       "2123      h641_996_revosm.jpg\n",
       "2124     h641_998_lavsink.jpg\n",
       "2125      h641_999_toilet.jpg\n",
       "Length: 2126, dtype: object"
      ]
     },
     "execution_count": 18,
     "metadata": {},
     "output_type": "execute_result"
    }
   ],
   "source": [
    "trainImgs"
   ]
  },
  {
   "cell_type": "code",
   "execution_count": 19,
   "id": "breathing-proposition",
   "metadata": {},
   "outputs": [
    {
     "data": {
      "text/plain": [
       "array(['kitsink', 'revosm', 'toilet', 'shower', 'lavsink', 'washer',\n",
       "       'dishwasher'], dtype=object)"
      ]
     },
     "execution_count": 19,
     "metadata": {},
     "output_type": "execute_result"
    }
   ],
   "source": [
    "pd.Series(trainLabels).unique()"
   ]
  },
  {
   "cell_type": "code",
   "execution_count": 20,
   "id": "unavailable-andrews",
   "metadata": {},
   "outputs": [],
   "source": [
    "trainOcc = pd.Series(trainLabels).value_counts()/(pd.Series(trainLabels).value_counts().sum())"
   ]
  },
  {
   "cell_type": "code",
   "execution_count": 13,
   "id": "coupled-minority",
   "metadata": {},
   "outputs": [],
   "source": [
    "def read_data(image_name, path):\n",
    "    img = cv2.imread(str(path)+'{}'.format(image_name))\n",
    "    label = image_name.split('_')[2].split('.')[0]\n",
    "    return img, label\n",
    "    \n",
    "def resize(img):\n",
    "    new_dim = (800,54)\n",
    "    resized = cv2.resize(img, new_dim, interpolation = cv2.INTER_AREA)\n",
    "    return resized\n",
    "\n",
    "def normalize(img):\n",
    "    min = img.min()\n",
    "    max = img.max()\n",
    "    return 2.0 * (img - min) / (max - min) - 1.0\n",
    "\n",
    "def preprocess_img(img, dim):\n",
    "    new_dim = dim\n",
    "    img = cv2.resize(img, new_dim, interpolation = cv2.INTER_AREA)\n",
    "    min = img.min(); max = img.max()\n",
    "    return 2.0 * (img - min) / (max - min) - 1.0\n"
   ]
  },
  {
   "cell_type": "code",
   "execution_count": 14,
   "id": "curious-bruce",
   "metadata": {},
   "outputs": [
    {
     "name": "stdout",
     "output_type": "stream",
     "text": [
      "Train path: C:\\Users\\Christopher\\Conservation_Labs\\images/train/\n",
      "Val path: C:\\Users\\Christopher\\Conservation_Labs\\images/test/\n"
     ]
    }
   ],
   "source": [
    "print('Train path:', trainPath)\n",
    "print('Val path:', valPath)"
   ]
  },
  {
   "cell_type": "code",
   "execution_count": 15,
   "id": "polar-vermont",
   "metadata": {},
   "outputs": [],
   "source": [
    "img, label = read_data(trainImgs[7], path=trainPath)"
   ]
  },
  {
   "cell_type": "code",
   "execution_count": 16,
   "id": "unexpected-aspect",
   "metadata": {},
   "outputs": [
    {
     "data": {
      "text/plain": [
       "(-0.5, 863.5, 863.5, -0.5)"
      ]
     },
     "execution_count": 16,
     "metadata": {},
     "output_type": "execute_result"
    },
    {
     "data": {
      "image/png": "[encoded data removed]",
      "text/plain": [
       "<Figure size 432x288 with 1 Axes>"
      ]
     },
     "metadata": {},
     "output_type": "display_data"
    }
   ],
   "source": [
    "plt.imshow(img)\n",
    "plt.axis('off')"
   ]
  },
  {
   "cell_type": "code",
   "execution_count": 25,
   "id": "hearing-slope",
   "metadata": {},
   "outputs": [
    {
     "data": {
      "text/plain": [
       "(-0.5, 799.5, 53.5, -0.5)"
      ]
     },
     "execution_count": 25,
     "metadata": {},
     "output_type": "execute_result"
    },
    {
     "data": {
      "image/png": "[encoded data removed]",
      "text/plain": [
       "<Figure size 432x288 with 1 Axes>"
      ]
     },
     "metadata": {},
     "output_type": "display_data"
    }
   ],
   "source": [
    "plt.imshow(resize(img))\n",
    "plt.axis('off')"
   ]
  },
  {
   "cell_type": "code",
   "execution_count": 17,
   "id": "western-subsection",
   "metadata": {},
   "outputs": [
    {
     "name": "stdout",
     "output_type": "stream",
     "text": [
      "[ 54 800   3]\n"
     ]
    }
   ],
   "source": [
    "# Define input shapes\n",
    "dim = (800,54)\n",
    "\n",
    "imgR = preprocess_img(img, dim)\n",
    "img_x = np.shape(imgR)[0]\n",
    "img_y = np.shape(imgR)[1]\n",
    "img_z = np.shape(imgR)[2]\n",
    "\n",
    "inputs = np.array([img_x, img_y, img_z])\n",
    "print(inputs)"
   ]
  },
  {
   "cell_type": "code",
   "execution_count": 27,
   "id": "anticipated-balance",
   "metadata": {},
   "outputs": [
    {
     "name": "stderr",
     "output_type": "stream",
     "text": [
      "Clipping input data to the valid range for imshow with RGB data ([0..1] for floats or [0..255] for integers).\n"
     ]
    },
    {
     "data": {
      "text/plain": [
       "(-0.5, 799.5, 53.5, -0.5)"
      ]
     },
     "execution_count": 27,
     "metadata": {},
     "output_type": "execute_result"
    },
    {
     "data": {
      "image/png": "[encoded data removed]",
      "text/plain": [
       "<Figure size 432x288 with 1 Axes>"
      ]
     },
     "metadata": {},
     "output_type": "display_data"
    }
   ],
   "source": [
    "plt.imshow(imgR)\n",
    "plt.axis('off')"
   ]
  },
  {
   "cell_type": "code",
   "execution_count": 28,
   "id": "latin-belfast",
   "metadata": {},
   "outputs": [
    {
     "name": "stdout",
     "output_type": "stream",
     "text": [
      "Classification: kitsink\n",
      "Image Shape: (864, 864, 3)\n",
      "PreProcessed Image Shape: (54, 800, 3)\n"
     ]
    }
   ],
   "source": [
    "print('Classification:', label)\n",
    "print('Image Shape:', np.shape(img))\n",
    "print('PreProcessed Image Shape:', np.shape(preprocess_img(img, dim)))"
   ]
  },
  {
   "cell_type": "code",
   "execution_count": 18,
   "id": "express-congo",
   "metadata": {},
   "outputs": [],
   "source": [
    "def cnn_model(inputs, n_classes):\n",
    "    inputs = Input((inputs[0], inputs[1], inputs[2]))\n",
    "    conv1 = (Conv2D(32, kernel_size=(3, 3), activation='relu'))(inputs)\n",
    "    conv2 = (Conv2D(64, kernel_size=(3, 3), activation='relu'))(conv1)\n",
    "    pool1 = (MaxPooling2D(pool_size=(2, 2)))(conv2)\n",
    "    dropout1 = (Dropout(0.25))(pool1)\n",
    "    flatten = (Flatten())(dropout1)\n",
    "    dense1 = (Dense(32, activation='relu'))(flatten)\n",
    "    dropout2 = (Dropout(0.5))(dense1)\n",
    "    output = (Dense(n_classes, activation='softmax'))(dropout2)\n",
    "    model = Model(inputs=inputs, outputs=output)\n",
    "    model.compile(optimizer=Adam(), loss='binary_crossentropy')\n",
    "    return model"
   ]
  },
  {
   "cell_type": "code",
   "execution_count": 19,
   "id": "located-penetration",
   "metadata": {},
   "outputs": [
    {
     "name": "stdout",
     "output_type": "stream",
     "text": [
      "[ 54 800   3]\n"
     ]
    }
   ],
   "source": [
    "print(inputs)"
   ]
  },
  {
   "cell_type": "code",
   "execution_count": 31,
   "id": "functional-covering",
   "metadata": {},
   "outputs": [
    {
     "data": {
      "text/plain": [
       "kitsink       864\n",
       "lavsink       444\n",
       "revosm        395\n",
       "toilet        262\n",
       "shower        102\n",
       "washer         31\n",
       "dishwasher     28\n",
       "dtype: int64"
      ]
     },
     "execution_count": 31,
     "metadata": {},
     "output_type": "execute_result"
    }
   ],
   "source": [
    "pd.Series(trainLabels).value_counts()"
   ]
  },
  {
   "cell_type": "code",
   "execution_count": 32,
   "id": "welcome-output",
   "metadata": {},
   "outputs": [
    {
     "data": {
      "text/plain": [
       "7"
      ]
     },
     "execution_count": 32,
     "metadata": {},
     "output_type": "execute_result"
    }
   ],
   "source": [
    "len(pd.Series(trainLabels).unique())"
   ]
  },
  {
   "cell_type": "code",
   "execution_count": 20,
   "id": "ceramic-dialogue",
   "metadata": {},
   "outputs": [],
   "source": [
    "n_classes=len(pd.Series(trainLabels).unique())\n",
    "cnn = cnn_model(inputs=inputs, n_classes=n_classes)"
   ]
  },
  {
   "cell_type": "code",
   "execution_count": 34,
   "id": "creative-fancy",
   "metadata": {},
   "outputs": [
    {
     "name": "stdout",
     "output_type": "stream",
     "text": [
      "Model: \"model\"\n",
      "_________________________________________________________________\n",
      "Layer (type)                 Output Shape              Param #   \n",
      "=================================================================\n",
      "input_1 (InputLayer)         [(None, 54, 800, 3)]      0         \n",
      "_________________________________________________________________\n",
      "conv2d (Conv2D)              (None, 52, 798, 32)       896       \n",
      "_________________________________________________________________\n",
      "conv2d_1 (Conv2D)            (None, 50, 796, 64)       18496     \n",
      "_________________________________________________________________\n",
      "max_pooling2d (MaxPooling2D) (None, 25, 398, 64)       0         \n",
      "_________________________________________________________________\n",
      "dropout (Dropout)            (None, 25, 398, 64)       0         \n",
      "_________________________________________________________________\n",
      "flatten (Flatten)            (None, 636800)            0         \n",
      "_________________________________________________________________\n",
      "dense (Dense)                (None, 32)                20377632  \n",
      "_________________________________________________________________\n",
      "dropout_1 (Dropout)          (None, 32)                0         \n",
      "_________________________________________________________________\n",
      "dense_1 (Dense)              (None, 7)                 231       \n",
      "=================================================================\n",
      "Total params: 20,397,255\n",
      "Trainable params: 20,397,255\n",
      "Non-trainable params: 0\n",
      "_________________________________________________________________\n",
      "None\n"
     ]
    }
   ],
   "source": [
    "print(cnn.summary())"
   ]
  },
  {
   "cell_type": "code",
   "execution_count": 35,
   "id": "historic-copyright",
   "metadata": {},
   "outputs": [],
   "source": [
    "# Define model parameters\n",
    "ts = datetime.now()\n",
    "ts_str = ts.strftime(\"%d%b%H%M\")\n",
    "n_epochs = 50\n",
    "batch_size = 32\n",
    "train_size = 350\n",
    "val_size = 70\n",
    "train_iters = 50\n",
    "counter = 0\n",
    "model_checkpoint = ModelCheckpoint(filepath='model_outputs/{}_ConsLabsCNN.hdf5'.format(ts_str), \n",
    "                                   monitor='val_loss', save_best_only=True)\n",
    "csv_logger = CSVLogger('model_outputs/{}_log.csv'.format(ts_str), append=True, separator=';')\n",
    "tensorboard = TensorBoard(log_dir='model_outputs/tensorboard_ConsLabs_CNN\\\\', write_graph=True, write_images=True,\n",
    "                         profile_batch = 100000000)"
   ]
  },
  {
   "cell_type": "code",
   "execution_count": 36,
   "id": "dress-instrument",
   "metadata": {},
   "outputs": [
    {
     "name": "stdout",
     "output_type": "stream",
     "text": [
      "Train Iter Size: 350.0\n",
      "Val Iter Size: 70.0\n",
      "Total Iter Size: 420.0\n"
     ]
    }
   ],
   "source": [
    "trainQty = np.rint(train_size*trainOcc)\n",
    "valQty = np.rint(val_size*trainOcc)\n",
    "totalQty = trainQty + valQty\n",
    "print('Train Iter Size: {0}\\nVal Iter Size: {1}\\nTotal Iter Size: {2}'.format(trainQty.sum(), valQty.sum(), totalQty.sum()))"
   ]
  },
  {
   "cell_type": "code",
   "execution_count": 37,
   "id": "internal-hawaiian",
   "metadata": {},
   "outputs": [
    {
     "data": {
      "text/plain": [
       "(800, 54)"
      ]
     },
     "execution_count": 37,
     "metadata": {},
     "output_type": "execute_result"
    }
   ],
   "source": [
    "dim"
   ]
  },
  {
   "cell_type": "code",
   "execution_count": 21,
   "id": "vietnamese-finland",
   "metadata": {},
   "outputs": [],
   "source": [
    "# Separate events/fixtures to use for randomly fitting each iter\n",
    "trainEvents = pd.Series(trainLabels)\n",
    "valEvents = pd.Series(valLabels)\n",
    "fixtures = trainEvents.unique()"
   ]
  },
  {
   "cell_type": "code",
   "execution_count": 82,
   "id": "abroad-senior",
   "metadata": {
    "scrolled": true
   },
   "outputs": [
    {
     "name": "stdout",
     "output_type": "stream",
     "text": [
      "Train Image Dir = ./images/train/\n",
      "Val Image Dir = ./images/test/\n",
      "\n",
      "***Train iteration 1\n",
      "\n",
      "Epoch 1/50\n",
      "11/11 [==============================] - 35s 3s/step - loss: 0.4648 - val_loss: 0.3721\n",
      "Epoch 2/50\n",
      "11/11 [==============================] - 35s 3s/step - loss: 0.4554 - val_loss: 0.3841\n",
      "Epoch 3/50\n",
      "11/11 [==============================] - 36s 3s/step - loss: 0.4518 - val_loss: 0.3632\n",
      "Epoch 4/50\n",
      "11/11 [==============================] - 37s 3s/step - loss: 0.4412 - val_loss: 0.3482\n",
      "Epoch 5/50\n",
      "11/11 [==============================] - 36s 3s/step - loss: 0.4331 - val_loss: 0.3567\n",
      "Epoch 6/50\n",
      "11/11 [==============================] - 43s 4s/step - loss: 0.4428 - val_loss: 0.3560\n",
      "Epoch 7/50\n",
      "11/11 [==============================] - 35s 3s/step - loss: 0.4342 - val_loss: 0.3409\n",
      "Epoch 8/50\n",
      "11/11 [==============================] - 38s 3s/step - loss: 0.4099 - val_loss: 0.3454\n",
      "Epoch 9/50\n",
      "11/11 [==============================] - 37s 3s/step - loss: 0.4145 - val_loss: 0.3367\n",
      "Epoch 10/50\n",
      "11/11 [==============================] - 36s 3s/step - loss: 0.4315 - val_loss: 0.3219\n",
      "Epoch 11/50\n",
      "11/11 [==============================] - 38s 3s/step - loss: 0.4148 - val_loss: 0.3282\n",
      "Epoch 12/50\n",
      "11/11 [==============================] - 35s 3s/step - loss: 0.3884 - val_loss: 0.3120\n",
      "Epoch 13/50\n",
      "11/11 [==============================] - 38s 4s/step - loss: 0.4068 - val_loss: 0.3128\n",
      "Epoch 14/50\n",
      "11/11 [==============================] - 38s 3s/step - loss: 0.3893 - val_loss: 0.3096\n",
      "Epoch 15/50\n",
      "11/11 [==============================] - 36s 3s/step - loss: 0.4123 - val_loss: 0.3046\n",
      "Epoch 16/50\n",
      "11/11 [==============================] - 37s 3s/step - loss: 0.3779 - val_loss: 0.3015\n",
      "Epoch 17/50\n",
      "11/11 [==============================] - 44s 4s/step - loss: 0.3967 - val_loss: 0.2985\n",
      "Epoch 18/50\n",
      "11/11 [==============================] - 37s 3s/step - loss: 0.3970 - val_loss: 0.3014\n",
      "Epoch 19/50\n",
      "11/11 [==============================] - 36s 3s/step - loss: 0.3936 - val_loss: 0.2894\n",
      "Epoch 20/50\n",
      "11/11 [==============================] - 36s 3s/step - loss: 0.3827 - val_loss: 0.2855\n",
      "Epoch 21/50\n",
      "11/11 [==============================] - 38s 3s/step - loss: 0.3720 - val_loss: 0.2849\n",
      "Epoch 22/50\n",
      "11/11 [==============================] - 41s 4s/step - loss: 0.3752 - val_loss: 0.2852\n",
      "Epoch 23/50\n",
      "11/11 [==============================] - 40s 4s/step - loss: 0.3807 - val_loss: 0.2780\n",
      "Epoch 24/50\n",
      "11/11 [==============================] - 39s 4s/step - loss: 0.3440 - val_loss: 0.2696\n",
      "Epoch 25/50\n",
      "11/11 [==============================] - 36s 3s/step - loss: 0.3430 - val_loss: 0.2684\n",
      "Epoch 26/50\n",
      "11/11 [==============================] - 36s 3s/step - loss: 0.3576 - val_loss: 0.2712\n",
      "Epoch 27/50\n",
      "11/11 [==============================] - 35s 3s/step - loss: 0.3660 - val_loss: 0.2715\n",
      "Epoch 28/50\n",
      "11/11 [==============================] - 39s 4s/step - loss: 0.3612 - val_loss: 0.2632\n",
      "Epoch 29/50\n",
      "11/11 [==============================] - 39s 3s/step - loss: 0.3644 - val_loss: 0.2633\n",
      "Epoch 30/50\n",
      "11/11 [==============================] - 36s 3s/step - loss: 0.3525 - val_loss: 0.2667\n",
      "Epoch 31/50\n",
      "11/11 [==============================] - 36s 3s/step - loss: 0.3463 - val_loss: 0.2593\n",
      "Epoch 32/50\n",
      "11/11 [==============================] - 35s 3s/step - loss: 0.3523 - val_loss: 0.2591\n",
      "Epoch 33/50\n",
      "11/11 [==============================] - 36s 3s/step - loss: 0.3479 - val_loss: 0.2613\n",
      "Epoch 34/50\n",
      "11/11 [==============================] - 39s 4s/step - loss: 0.3441 - val_loss: 0.2620\n",
      "Epoch 35/50\n",
      "11/11 [==============================] - 36s 3s/step - loss: 0.3557 - val_loss: 0.2655\n",
      "Epoch 36/50\n",
      "11/11 [==============================] - 36s 3s/step - loss: 0.3580 - val_loss: 0.2580\n",
      "Epoch 37/50\n",
      "11/11 [==============================] - 36s 3s/step - loss: 0.3530 - val_loss: 0.2598\n",
      "Epoch 38/50\n",
      "11/11 [==============================] - 35s 3s/step - loss: 0.3201 - val_loss: 0.2595\n",
      "Epoch 39/50\n",
      "11/11 [==============================] - 35s 3s/step - loss: 0.3419 - val_loss: 0.2569\n",
      "Epoch 40/50\n",
      "11/11 [==============================] - 35s 3s/step - loss: 0.3420 - val_loss: 0.2575\n",
      "Epoch 41/50\n",
      "11/11 [==============================] - 35s 3s/step - loss: 0.3554 - val_loss: 0.2630\n",
      "Epoch 42/50\n",
      "11/11 [==============================] - 37s 3s/step - loss: 0.3349 - val_loss: 0.2544\n",
      "Epoch 43/50\n",
      "11/11 [==============================] - 38s 4s/step - loss: 0.3339 - val_loss: 0.2539\n",
      "Epoch 44/50\n",
      "11/11 [==============================] - 35s 3s/step - loss: 0.3457 - val_loss: 0.2762\n",
      "Epoch 45/50\n",
      "11/11 [==============================] - 38s 3s/step - loss: 0.3453 - val_loss: 0.2646\n",
      "Epoch 46/50\n",
      "11/11 [==============================] - 43s 4s/step - loss: 0.3405 - val_loss: 0.2570\n",
      "Epoch 47/50\n",
      "11/11 [==============================] - 40s 4s/step - loss: 0.3433 - val_loss: 0.2672\n",
      "Epoch 48/50\n",
      "11/11 [==============================] - 38s 3s/step - loss: 0.3361 - val_loss: 0.2543\n",
      "Epoch 49/50\n",
      "11/11 [==============================] - 43s 4s/step - loss: 0.3375 - val_loss: 0.2694\n",
      "Epoch 50/50\n",
      "11/11 [==============================] - 64s 6s/step - loss: 0.3553 - val_loss: 0.2609\n",
      "\n",
      "***Train iteration 2\n",
      "\n",
      "Epoch 1/50\n",
      "11/11 [==============================] - 37s 3s/step - loss: 0.3494 - val_loss: 0.2723\n",
      "Epoch 2/50\n",
      "11/11 [==============================] - 36s 3s/step - loss: 0.3482 - val_loss: 0.2741\n",
      "Epoch 3/50\n",
      "11/11 [==============================] - 38s 3s/step - loss: 0.3700 - val_loss: 0.2720\n",
      "Epoch 4/50\n",
      "11/11 [==============================] - 37s 3s/step - loss: 0.3212 - val_loss: 0.2771\n",
      "Epoch 5/50\n",
      "11/11 [==============================] - 36s 3s/step - loss: 0.3440 - val_loss: 0.2724\n",
      "Epoch 6/50\n",
      "11/11 [==============================] - 36s 3s/step - loss: 0.3469 - val_loss: 0.2693\n",
      "Epoch 7/50\n",
      "11/11 [==============================] - 36s 3s/step - loss: 0.3423 - val_loss: 0.2720\n",
      "Epoch 8/50\n",
      "11/11 [==============================] - 38s 4s/step - loss: 0.3182 - val_loss: 0.2546\n",
      "Epoch 9/50\n",
      "11/11 [==============================] - 41s 4s/step - loss: 0.3495 - val_loss: 0.2604\n",
      "Epoch 10/50\n",
      "11/11 [==============================] - 38s 3s/step - loss: 0.3468 - val_loss: 0.2676\n",
      "Epoch 11/50\n",
      "11/11 [==============================] - 39s 4s/step - loss: 0.3161 - val_loss: 0.2675\n",
      "Epoch 12/50\n",
      "11/11 [==============================] - 35s 3s/step - loss: 0.3223 - val_loss: 0.2645\n",
      "Epoch 13/50\n",
      "11/11 [==============================] - 38s 3s/step - loss: 0.3222 - val_loss: 0.2646\n",
      "Epoch 14/50\n",
      "11/11 [==============================] - 39s 4s/step - loss: 0.3089 - val_loss: 0.2655\n",
      "Epoch 15/50\n",
      "11/11 [==============================] - 39s 4s/step - loss: 0.3271 - val_loss: 0.2617\n",
      "Epoch 16/50\n",
      "11/11 [==============================] - 37s 3s/step - loss: 0.3339 - val_loss: 0.2634\n",
      "Epoch 17/50\n",
      "11/11 [==============================] - 37s 3s/step - loss: 0.3103 - val_loss: 0.2641\n",
      "Epoch 18/50\n",
      "11/11 [==============================] - 37s 3s/step - loss: 0.3265 - val_loss: 0.2681\n",
      "Epoch 19/50\n",
      "11/11 [==============================] - 39s 4s/step - loss: 0.3331 - val_loss: 0.2696\n",
      "Epoch 20/50\n",
      "11/11 [==============================] - 44s 4s/step - loss: 0.3104 - val_loss: 0.2667\n",
      "Epoch 21/50\n",
      "11/11 [==============================] - 38s 3s/step - loss: 0.3204 - val_loss: 0.2713\n",
      "Epoch 22/50\n",
      "11/11 [==============================] - 37s 3s/step - loss: 0.3340 - val_loss: 0.2728\n",
      "Epoch 23/50\n",
      "11/11 [==============================] - 36s 3s/step - loss: 0.3335 - val_loss: 0.2787\n",
      "Epoch 24/50\n",
      "11/11 [==============================] - 36s 3s/step - loss: 0.3162 - val_loss: 0.2789\n",
      "Epoch 25/50\n",
      "11/11 [==============================] - 35s 3s/step - loss: 0.2953 - val_loss: 0.2752\n",
      "Epoch 26/50\n",
      "11/11 [==============================] - 35s 3s/step - loss: 0.3181 - val_loss: 0.2753\n",
      "Epoch 27/50\n",
      "11/11 [==============================] - 35s 3s/step - loss: 0.3021 - val_loss: 0.2759\n",
      "Epoch 28/50\n",
      "11/11 [==============================] - 37s 3s/step - loss: 0.3070 - val_loss: 0.2738\n",
      "Epoch 29/50\n",
      "11/11 [==============================] - 36s 3s/step - loss: 0.3017 - val_loss: 0.2702\n",
      "Epoch 30/50\n",
      "11/11 [==============================] - 37s 3s/step - loss: 0.3044 - val_loss: 0.2793\n",
      "Epoch 31/50\n",
      "11/11 [==============================] - 38s 4s/step - loss: 0.3122 - val_loss: 0.2811\n",
      "Epoch 32/50\n",
      "11/11 [==============================] - 37s 3s/step - loss: 0.3002 - val_loss: 0.2795\n"
     ]
    },
    {
     "name": "stdout",
     "output_type": "stream",
     "text": [
      "Epoch 33/50\n",
      "11/11 [==============================] - 36s 3s/step - loss: 0.3035 - val_loss: 0.2811\n",
      "Epoch 34/50\n",
      "11/11 [==============================] - 36s 3s/step - loss: 0.2895 - val_loss: 0.2744\n",
      "Epoch 35/50\n",
      "11/11 [==============================] - 42s 4s/step - loss: 0.3076 - val_loss: 0.2788\n",
      "Epoch 36/50\n",
      "11/11 [==============================] - 38s 4s/step - loss: 0.2965 - val_loss: 0.2890\n",
      "Epoch 37/50\n",
      "11/11 [==============================] - 40s 4s/step - loss: 0.3118 - val_loss: 0.2902\n",
      "Epoch 38/50\n",
      "11/11 [==============================] - 40s 4s/step - loss: 0.3041 - val_loss: 0.2857\n",
      "Epoch 39/50\n",
      "11/11 [==============================] - 38s 3s/step - loss: 0.2935 - val_loss: 0.2900\n",
      "Epoch 40/50\n",
      "11/11 [==============================] - 37s 3s/step - loss: 0.3026 - val_loss: 0.2923\n",
      "Epoch 41/50\n",
      "11/11 [==============================] - 36s 3s/step - loss: 0.3018 - val_loss: 0.3022\n",
      "Epoch 42/50\n",
      "11/11 [==============================] - 36s 3s/step - loss: 0.2805 - val_loss: 0.2923\n",
      "Epoch 43/50\n",
      "11/11 [==============================] - 36s 3s/step - loss: 0.3010 - val_loss: 0.2867\n",
      "Epoch 44/50\n",
      "11/11 [==============================] - 38s 3s/step - loss: 0.2955 - val_loss: 0.3112\n",
      "Epoch 45/50\n",
      "11/11 [==============================] - 37s 3s/step - loss: 0.2821 - val_loss: 0.2947\n",
      "Epoch 46/50\n",
      "11/11 [==============================] - 38s 4s/step - loss: 0.2893 - val_loss: 0.3012\n",
      "Epoch 47/50\n",
      "11/11 [==============================] - 35s 3s/step - loss: 0.2935 - val_loss: 0.3080\n",
      "Epoch 48/50\n",
      "11/11 [==============================] - 38s 3s/step - loss: 0.2988 - val_loss: 0.3062\n",
      "Epoch 49/50\n",
      "11/11 [==============================] - 36s 3s/step - loss: 0.2875 - val_loss: 0.3112\n",
      "Epoch 50/50\n",
      "11/11 [==============================] - 36s 3s/step - loss: 0.2946 - val_loss: 0.3095\n",
      "\n",
      "***Train iteration 3\n",
      "\n",
      "Epoch 1/50\n",
      "11/11 [==============================] - 37s 3s/step - loss: 0.3153 - val_loss: 0.2403\n",
      "Epoch 2/50\n",
      "11/11 [==============================] - 39s 4s/step - loss: 0.3244 - val_loss: 0.2412\n",
      "Epoch 3/50\n",
      "11/11 [==============================] - 37s 3s/step - loss: 0.3139 - val_loss: 0.2332\n",
      "Epoch 4/50\n",
      "11/11 [==============================] - 36s 3s/step - loss: 0.3030 - val_loss: 0.2239\n",
      "Epoch 5/50\n",
      "11/11 [==============================] - 37s 3s/step - loss: 0.3114 - val_loss: 0.2360\n",
      "Epoch 6/50\n",
      "11/11 [==============================] - 37s 3s/step - loss: 0.2994 - val_loss: 0.2215\n",
      "Epoch 7/50\n",
      "11/11 [==============================] - 37s 3s/step - loss: 0.3035 - val_loss: 0.2168\n",
      "Epoch 8/50\n",
      "11/11 [==============================] - 36s 3s/step - loss: 0.2943 - val_loss: 0.2127\n",
      "Epoch 9/50\n",
      "11/11 [==============================] - 39s 4s/step - loss: 0.2984 - val_loss: 0.2114\n",
      "Epoch 10/50\n",
      "11/11 [==============================] - 41s 4s/step - loss: 0.2995 - val_loss: 0.2068\n",
      "Epoch 11/50\n",
      "11/11 [==============================] - 37s 3s/step - loss: 0.2827 - val_loss: 0.2055\n",
      "Epoch 12/50\n",
      "11/11 [==============================] - 37s 3s/step - loss: 0.2920 - val_loss: 0.2058\n",
      "Epoch 13/50\n",
      "11/11 [==============================] - 41s 4s/step - loss: 0.2734 - val_loss: 0.2033\n",
      "Epoch 14/50\n",
      "11/11 [==============================] - 36s 3s/step - loss: 0.2978 - val_loss: 0.2036\n",
      "Epoch 15/50\n",
      "11/11 [==============================] - 35s 3s/step - loss: 0.2872 - val_loss: 0.2125\n",
      "Epoch 16/50\n",
      "11/11 [==============================] - 37s 3s/step - loss: 0.3023 - val_loss: 0.2065\n",
      "Epoch 17/50\n",
      "11/11 [==============================] - 36s 3s/step - loss: 0.2980 - val_loss: 0.2088\n",
      "Epoch 18/50\n",
      "11/11 [==============================] - 35s 3s/step - loss: 0.2909 - val_loss: 0.2252\n",
      "Epoch 19/50\n",
      "11/11 [==============================] - 36s 3s/step - loss: 0.2781 - val_loss: 0.2278\n",
      "Epoch 20/50\n",
      "11/11 [==============================] - 35s 3s/step - loss: 0.2798 - val_loss: 0.2145\n",
      "Epoch 21/50\n",
      "11/11 [==============================] - 35s 3s/step - loss: 0.2799 - val_loss: 0.2315\n",
      "Epoch 22/50\n",
      "11/11 [==============================] - 36s 3s/step - loss: 0.2819 - val_loss: 0.2291\n",
      "Epoch 23/50\n",
      "11/11 [==============================] - 35s 3s/step - loss: 0.2926 - val_loss: 0.2243\n",
      "Epoch 24/50\n",
      "11/11 [==============================] - 36s 3s/step - loss: 0.2991 - val_loss: 0.2371\n",
      "Epoch 25/50\n",
      "11/11 [==============================] - 40s 4s/step - loss: 0.2816 - val_loss: 0.2304\n",
      "Epoch 26/50\n",
      "11/11 [==============================] - 39s 3s/step - loss: 0.2745 - val_loss: 0.2485\n",
      "Epoch 27/50\n",
      "11/11 [==============================] - 36s 3s/step - loss: 0.2923 - val_loss: 0.2340\n",
      "Epoch 28/50\n",
      "11/11 [==============================] - 40s 4s/step - loss: 0.2776 - val_loss: 0.2505\n",
      "Epoch 29/50\n",
      "11/11 [==============================] - 36s 3s/step - loss: 0.2876 - val_loss: 0.2416\n",
      "Epoch 30/50\n",
      "11/11 [==============================] - 38s 3s/step - loss: 0.2821 - val_loss: 0.2363\n",
      "Epoch 31/50\n",
      "11/11 [==============================] - 39s 4s/step - loss: 0.2818 - val_loss: 0.2232\n",
      "Epoch 32/50\n",
      "11/11 [==============================] - 37s 3s/step - loss: 0.2868 - val_loss: 0.2211\n",
      "Epoch 33/50\n",
      "11/11 [==============================] - 39s 4s/step - loss: 0.2871 - val_loss: 0.2185\n",
      "Epoch 34/50\n",
      "11/11 [==============================] - 38s 3s/step - loss: 0.2693 - val_loss: 0.2220\n",
      "Epoch 35/50\n",
      "11/11 [==============================] - 38s 3s/step - loss: 0.2691 - val_loss: 0.2294\n",
      "Epoch 36/50\n",
      "11/11 [==============================] - 42s 4s/step - loss: 0.2701 - val_loss: 0.2366\n",
      "Epoch 37/50\n",
      "11/11 [==============================] - 43s 4s/step - loss: 0.2956 - val_loss: 0.2361\n",
      "Epoch 38/50\n",
      "11/11 [==============================] - 39s 4s/step - loss: 0.2675 - val_loss: 0.2301\n",
      "Epoch 39/50\n",
      "11/11 [==============================] - 41s 4s/step - loss: 0.2841 - val_loss: 0.2366\n",
      "Epoch 40/50\n",
      "11/11 [==============================] - 38s 3s/step - loss: 0.2763 - val_loss: 0.2383\n",
      "Epoch 41/50\n",
      "11/11 [==============================] - 38s 3s/step - loss: 0.2915 - val_loss: 0.2332\n",
      "Epoch 42/50\n",
      "11/11 [==============================] - 40s 4s/step - loss: 0.2775 - val_loss: 0.2393\n",
      "Epoch 43/50\n",
      "11/11 [==============================] - 37s 3s/step - loss: 0.2614 - val_loss: 0.2321\n",
      "Epoch 44/50\n",
      "11/11 [==============================] - 38s 3s/step - loss: 0.2660 - val_loss: 0.2268\n",
      "Epoch 45/50\n",
      " 9/11 [=======================>......] - ETA: 6s - loss: 0.2732 "
     ]
    },
    {
     "ename": "KeyboardInterrupt",
     "evalue": "",
     "output_type": "error",
     "traceback": [
      "\u001b[1;31m---------------------------------------------------------------------------\u001b[0m",
      "\u001b[1;31mKeyboardInterrupt\u001b[0m                         Traceback (most recent call last)",
      "\u001b[1;32m<ipython-input-82-092c3df29a3d>\u001b[0m in \u001b[0;36m<module>\u001b[1;34m\u001b[0m\n\u001b[0;32m     57\u001b[0m \u001b[1;33m\u001b[0m\u001b[0m\n\u001b[0;32m     58\u001b[0m \u001b[1;33m\u001b[0m\u001b[0m\n\u001b[1;32m---> 59\u001b[1;33m     cnn.fit(np.array(x_train), np.array(y_train), batch_size=batch_size, epochs=n_epochs,\n\u001b[0m\u001b[0;32m     60\u001b[0m               \u001b[0mverbose\u001b[0m\u001b[1;33m=\u001b[0m\u001b[1;36m1\u001b[0m\u001b[1;33m,\u001b[0m \u001b[0mshuffle\u001b[0m\u001b[1;33m=\u001b[0m\u001b[1;32mTrue\u001b[0m\u001b[1;33m,\u001b[0m \u001b[0mcallbacks\u001b[0m\u001b[1;33m=\u001b[0m\u001b[1;33m[\u001b[0m\u001b[0mmodel_checkpoint\u001b[0m\u001b[1;33m,\u001b[0m \u001b[0mcsv_logger\u001b[0m\u001b[1;33m,\u001b[0m \u001b[0mtensorboard\u001b[0m\u001b[1;33m]\u001b[0m\u001b[1;33m,\u001b[0m\u001b[1;33m\u001b[0m\u001b[1;33m\u001b[0m\u001b[0m\n\u001b[0;32m     61\u001b[0m               validation_data=(np.array(x_val), np.array(y_val)))\n",
      "\u001b[1;32m~\\.conda\\envs\\Py3\\lib\\site-packages\\tensorflow\\python\\keras\\engine\\training.py\u001b[0m in \u001b[0;36mfit\u001b[1;34m(self, x, y, batch_size, epochs, verbose, callbacks, validation_split, validation_data, shuffle, class_weight, sample_weight, initial_epoch, steps_per_epoch, validation_steps, validation_batch_size, validation_freq, max_queue_size, workers, use_multiprocessing)\u001b[0m\n\u001b[0;32m   1098\u001b[0m                 _r=1):\n\u001b[0;32m   1099\u001b[0m               \u001b[0mcallbacks\u001b[0m\u001b[1;33m.\u001b[0m\u001b[0mon_train_batch_begin\u001b[0m\u001b[1;33m(\u001b[0m\u001b[0mstep\u001b[0m\u001b[1;33m)\u001b[0m\u001b[1;33m\u001b[0m\u001b[1;33m\u001b[0m\u001b[0m\n\u001b[1;32m-> 1100\u001b[1;33m               \u001b[0mtmp_logs\u001b[0m \u001b[1;33m=\u001b[0m \u001b[0mself\u001b[0m\u001b[1;33m.\u001b[0m\u001b[0mtrain_function\u001b[0m\u001b[1;33m(\u001b[0m\u001b[0miterator\u001b[0m\u001b[1;33m)\u001b[0m\u001b[1;33m\u001b[0m\u001b[1;33m\u001b[0m\u001b[0m\n\u001b[0m\u001b[0;32m   1101\u001b[0m               \u001b[1;32mif\u001b[0m \u001b[0mdata_handler\u001b[0m\u001b[1;33m.\u001b[0m\u001b[0mshould_sync\u001b[0m\u001b[1;33m:\u001b[0m\u001b[1;33m\u001b[0m\u001b[1;33m\u001b[0m\u001b[0m\n\u001b[0;32m   1102\u001b[0m                 \u001b[0mcontext\u001b[0m\u001b[1;33m.\u001b[0m\u001b[0masync_wait\u001b[0m\u001b[1;33m(\u001b[0m\u001b[1;33m)\u001b[0m\u001b[1;33m\u001b[0m\u001b[1;33m\u001b[0m\u001b[0m\n",
      "\u001b[1;32m~\\.conda\\envs\\Py3\\lib\\site-packages\\tensorflow\\python\\eager\\def_function.py\u001b[0m in \u001b[0;36m__call__\u001b[1;34m(self, *args, **kwds)\u001b[0m\n\u001b[0;32m    826\u001b[0m     \u001b[0mtracing_count\u001b[0m \u001b[1;33m=\u001b[0m \u001b[0mself\u001b[0m\u001b[1;33m.\u001b[0m\u001b[0mexperimental_get_tracing_count\u001b[0m\u001b[1;33m(\u001b[0m\u001b[1;33m)\u001b[0m\u001b[1;33m\u001b[0m\u001b[1;33m\u001b[0m\u001b[0m\n\u001b[0;32m    827\u001b[0m     \u001b[1;32mwith\u001b[0m \u001b[0mtrace\u001b[0m\u001b[1;33m.\u001b[0m\u001b[0mTrace\u001b[0m\u001b[1;33m(\u001b[0m\u001b[0mself\u001b[0m\u001b[1;33m.\u001b[0m\u001b[0m_name\u001b[0m\u001b[1;33m)\u001b[0m \u001b[1;32mas\u001b[0m \u001b[0mtm\u001b[0m\u001b[1;33m:\u001b[0m\u001b[1;33m\u001b[0m\u001b[1;33m\u001b[0m\u001b[0m\n\u001b[1;32m--> 828\u001b[1;33m       \u001b[0mresult\u001b[0m \u001b[1;33m=\u001b[0m \u001b[0mself\u001b[0m\u001b[1;33m.\u001b[0m\u001b[0m_call\u001b[0m\u001b[1;33m(\u001b[0m\u001b[1;33m*\u001b[0m\u001b[0margs\u001b[0m\u001b[1;33m,\u001b[0m \u001b[1;33m**\u001b[0m\u001b[0mkwds\u001b[0m\u001b[1;33m)\u001b[0m\u001b[1;33m\u001b[0m\u001b[1;33m\u001b[0m\u001b[0m\n\u001b[0m\u001b[0;32m    829\u001b[0m       \u001b[0mcompiler\u001b[0m \u001b[1;33m=\u001b[0m \u001b[1;34m\"xla\"\u001b[0m \u001b[1;32mif\u001b[0m \u001b[0mself\u001b[0m\u001b[1;33m.\u001b[0m\u001b[0m_experimental_compile\u001b[0m \u001b[1;32melse\u001b[0m \u001b[1;34m\"nonXla\"\u001b[0m\u001b[1;33m\u001b[0m\u001b[1;33m\u001b[0m\u001b[0m\n\u001b[0;32m    830\u001b[0m       \u001b[0mnew_tracing_count\u001b[0m \u001b[1;33m=\u001b[0m \u001b[0mself\u001b[0m\u001b[1;33m.\u001b[0m\u001b[0mexperimental_get_tracing_count\u001b[0m\u001b[1;33m(\u001b[0m\u001b[1;33m)\u001b[0m\u001b[1;33m\u001b[0m\u001b[1;33m\u001b[0m\u001b[0m\n",
      "\u001b[1;32m~\\.conda\\envs\\Py3\\lib\\site-packages\\tensorflow\\python\\eager\\def_function.py\u001b[0m in \u001b[0;36m_call\u001b[1;34m(self, *args, **kwds)\u001b[0m\n\u001b[0;32m    853\u001b[0m       \u001b[1;31m# In this case we have created variables on the first call, so we run the\u001b[0m\u001b[1;33m\u001b[0m\u001b[1;33m\u001b[0m\u001b[1;33m\u001b[0m\u001b[0m\n\u001b[0;32m    854\u001b[0m       \u001b[1;31m# defunned version which is guaranteed to never create variables.\u001b[0m\u001b[1;33m\u001b[0m\u001b[1;33m\u001b[0m\u001b[1;33m\u001b[0m\u001b[0m\n\u001b[1;32m--> 855\u001b[1;33m       \u001b[1;32mreturn\u001b[0m \u001b[0mself\u001b[0m\u001b[1;33m.\u001b[0m\u001b[0m_stateless_fn\u001b[0m\u001b[1;33m(\u001b[0m\u001b[1;33m*\u001b[0m\u001b[0margs\u001b[0m\u001b[1;33m,\u001b[0m \u001b[1;33m**\u001b[0m\u001b[0mkwds\u001b[0m\u001b[1;33m)\u001b[0m  \u001b[1;31m# pylint: disable=not-callable\u001b[0m\u001b[1;33m\u001b[0m\u001b[1;33m\u001b[0m\u001b[0m\n\u001b[0m\u001b[0;32m    856\u001b[0m     \u001b[1;32melif\u001b[0m \u001b[0mself\u001b[0m\u001b[1;33m.\u001b[0m\u001b[0m_stateful_fn\u001b[0m \u001b[1;32mis\u001b[0m \u001b[1;32mnot\u001b[0m \u001b[1;32mNone\u001b[0m\u001b[1;33m:\u001b[0m\u001b[1;33m\u001b[0m\u001b[1;33m\u001b[0m\u001b[0m\n\u001b[0;32m    857\u001b[0m       \u001b[1;31m# Release the lock early so that multiple threads can perform the call\u001b[0m\u001b[1;33m\u001b[0m\u001b[1;33m\u001b[0m\u001b[1;33m\u001b[0m\u001b[0m\n",
      "\u001b[1;32m~\\.conda\\envs\\Py3\\lib\\site-packages\\tensorflow\\python\\eager\\function.py\u001b[0m in \u001b[0;36m__call__\u001b[1;34m(self, *args, **kwargs)\u001b[0m\n\u001b[0;32m   2940\u001b[0m       (graph_function,\n\u001b[0;32m   2941\u001b[0m        filtered_flat_args) = self._maybe_define_function(args, kwargs)\n\u001b[1;32m-> 2942\u001b[1;33m     return graph_function._call_flat(\n\u001b[0m\u001b[0;32m   2943\u001b[0m         filtered_flat_args, captured_inputs=graph_function.captured_inputs)  # pylint: disable=protected-access\n\u001b[0;32m   2944\u001b[0m \u001b[1;33m\u001b[0m\u001b[0m\n",
      "\u001b[1;32m~\\.conda\\envs\\Py3\\lib\\site-packages\\tensorflow\\python\\eager\\function.py\u001b[0m in \u001b[0;36m_call_flat\u001b[1;34m(self, args, captured_inputs, cancellation_manager)\u001b[0m\n\u001b[0;32m   1916\u001b[0m         and executing_eagerly):\n\u001b[0;32m   1917\u001b[0m       \u001b[1;31m# No tape is watching; skip to running the function.\u001b[0m\u001b[1;33m\u001b[0m\u001b[1;33m\u001b[0m\u001b[1;33m\u001b[0m\u001b[0m\n\u001b[1;32m-> 1918\u001b[1;33m       return self._build_call_outputs(self._inference_function.call(\n\u001b[0m\u001b[0;32m   1919\u001b[0m           ctx, args, cancellation_manager=cancellation_manager))\n\u001b[0;32m   1920\u001b[0m     forward_backward = self._select_forward_and_backward_functions(\n",
      "\u001b[1;32m~\\.conda\\envs\\Py3\\lib\\site-packages\\tensorflow\\python\\eager\\function.py\u001b[0m in \u001b[0;36mcall\u001b[1;34m(self, ctx, args, cancellation_manager)\u001b[0m\n\u001b[0;32m    553\u001b[0m       \u001b[1;32mwith\u001b[0m \u001b[0m_InterpolateFunctionError\u001b[0m\u001b[1;33m(\u001b[0m\u001b[0mself\u001b[0m\u001b[1;33m)\u001b[0m\u001b[1;33m:\u001b[0m\u001b[1;33m\u001b[0m\u001b[1;33m\u001b[0m\u001b[0m\n\u001b[0;32m    554\u001b[0m         \u001b[1;32mif\u001b[0m \u001b[0mcancellation_manager\u001b[0m \u001b[1;32mis\u001b[0m \u001b[1;32mNone\u001b[0m\u001b[1;33m:\u001b[0m\u001b[1;33m\u001b[0m\u001b[1;33m\u001b[0m\u001b[0m\n\u001b[1;32m--> 555\u001b[1;33m           outputs = execute.execute(\n\u001b[0m\u001b[0;32m    556\u001b[0m               \u001b[0mstr\u001b[0m\u001b[1;33m(\u001b[0m\u001b[0mself\u001b[0m\u001b[1;33m.\u001b[0m\u001b[0msignature\u001b[0m\u001b[1;33m.\u001b[0m\u001b[0mname\u001b[0m\u001b[1;33m)\u001b[0m\u001b[1;33m,\u001b[0m\u001b[1;33m\u001b[0m\u001b[1;33m\u001b[0m\u001b[0m\n\u001b[0;32m    557\u001b[0m               \u001b[0mnum_outputs\u001b[0m\u001b[1;33m=\u001b[0m\u001b[0mself\u001b[0m\u001b[1;33m.\u001b[0m\u001b[0m_num_outputs\u001b[0m\u001b[1;33m,\u001b[0m\u001b[1;33m\u001b[0m\u001b[1;33m\u001b[0m\u001b[0m\n",
      "\u001b[1;32m~\\.conda\\envs\\Py3\\lib\\site-packages\\tensorflow\\python\\eager\\execute.py\u001b[0m in \u001b[0;36mquick_execute\u001b[1;34m(op_name, num_outputs, inputs, attrs, ctx, name)\u001b[0m\n\u001b[0;32m     57\u001b[0m   \u001b[1;32mtry\u001b[0m\u001b[1;33m:\u001b[0m\u001b[1;33m\u001b[0m\u001b[1;33m\u001b[0m\u001b[0m\n\u001b[0;32m     58\u001b[0m     \u001b[0mctx\u001b[0m\u001b[1;33m.\u001b[0m\u001b[0mensure_initialized\u001b[0m\u001b[1;33m(\u001b[0m\u001b[1;33m)\u001b[0m\u001b[1;33m\u001b[0m\u001b[1;33m\u001b[0m\u001b[0m\n\u001b[1;32m---> 59\u001b[1;33m     tensors = pywrap_tfe.TFE_Py_Execute(ctx._handle, device_name, op_name,\n\u001b[0m\u001b[0;32m     60\u001b[0m                                         inputs, attrs, num_outputs)\n\u001b[0;32m     61\u001b[0m   \u001b[1;32mexcept\u001b[0m \u001b[0mcore\u001b[0m\u001b[1;33m.\u001b[0m\u001b[0m_NotOkStatusException\u001b[0m \u001b[1;32mas\u001b[0m \u001b[0me\u001b[0m\u001b[1;33m:\u001b[0m\u001b[1;33m\u001b[0m\u001b[1;33m\u001b[0m\u001b[0m\n",
      "\u001b[1;31mKeyboardInterrupt\u001b[0m: "
     ]
    }
   ],
   "source": [
    "print('Train Image Dir =', trainPath)\n",
    "print('Val Image Dir =', valPath)\n",
    "\n",
    "# Train model\n",
    "while counter < train_iters:\n",
    "    print('\\n***Train iteration {}\\n'.format(counter+1))\n",
    "    \n",
    "    # Build empty arrays for compiling images\n",
    "    x_train = list()#np.empty(shape=(0,img_x,img_y,img_z))\n",
    "    y_train = list()#np.empty(shape=(0,n_classes))\n",
    "    x_val = list()#np.empty(shape=(0,img_x,img_y,img_z))\n",
    "    y_val = list()#np.empty(shape=(0,n_classes))\n",
    "    \n",
    "    # Iterate through fixtures to make train/val choice based on params\n",
    "    trainIdx = list()\n",
    "    valIdx = list()\n",
    "    for f in fixtures:\n",
    "        #fixIdx = np.random.choice(events[events == f].index.values, size=int(totalQty.loc[f]), replace = False)\n",
    "        try:\n",
    "            vI = np.random.choice(valEvents[valEvents == f].index.values, \n",
    "                                  size=int(valQty.sum()/n_classes), replace = False)\n",
    "        except:\n",
    "            vI = np.random.choice(valEvents[valEvents == f].index.values, \n",
    "                                  size=int(valQty.sum()/n_classes), replace = True)\n",
    "            \n",
    "        try:\n",
    "            trI = np.random.choice(trainEvents[trainEvents == f].index.values, \n",
    "                                   size=int(trainQty.sum()/n_classes), replace = False)\n",
    "        except:\n",
    "            trI = np.random.choice(trainEvents[trainEvents == f].index.values, \n",
    "                                   size=int(trainQty.sum()/n_classes), replace = True)\n",
    "        \n",
    "        # Append indexes for train/validation\n",
    "        trainIdx.append(trI)\n",
    "        valIdx.append(vI)\n",
    "        \n",
    "    for i in np.concatenate(trainIdx, axis=0):\n",
    "        img,dummy = read_data(trainImgs.iloc[i], path=trainPath)\n",
    "        imgR = preprocess_img(img, dim)\n",
    "        lab = trainLabelsEnc[i]\n",
    "        \n",
    "        x_train.append(imgR)\n",
    "        y_train.append(lab)\n",
    "        \n",
    "    for i in np.concatenate(valIdx, axis=0):\n",
    "        img,dummy = read_data(valImgs.iloc[i], path=valPath)\n",
    "        imgR = preprocess_img(img, dim)\n",
    "        lab = valLabelsEnc[i]\n",
    "        \n",
    "        x_val.append(imgR)\n",
    "        y_val.append(lab)\n",
    "        \n",
    "    \n",
    "    cnn.fit(np.array(x_train), np.array(y_train), batch_size=batch_size, epochs=n_epochs,\n",
    "              verbose=1, shuffle=True, callbacks=[model_checkpoint, csv_logger, tensorboard],\n",
    "              validation_data=(np.array(x_val), np.array(y_val)))\n",
    "    counter = counter + 1\n",
    "    "
   ]
  },
  {
   "cell_type": "code",
   "execution_count": 243,
   "id": "affected-journalism",
   "metadata": {},
   "outputs": [],
   "source": [
    "cnn.save('model_outputs/{}_cnn.h5'.format(ts_str))"
   ]
  },
  {
   "cell_type": "code",
   "execution_count": 26,
   "id": "central-payday",
   "metadata": {},
   "outputs": [],
   "source": [
    "# Compile all images for train/validation evaluation\n",
    "x_train = list()#np.empty(shape=(0,img_x,img_y,img_z))\n",
    "y_train = list()#np.empty(shape=(0,n_classes))\n",
    "x_val = list()#np.empty(shape=(0,img_x,img_y,img_z))\n",
    "y_val = list()#np.empty(shape=(0,n_classes))\n",
    "\n",
    "# Iterate through fixtures to make train/val choice based on params\n",
    "trainIdx = list()\n",
    "valIdx = list()\n",
    "\n",
    "trI = trainEvents.index.values\n",
    "vI = valEvents.index.values\n",
    "\n",
    "# Append indexes for train/validation\n",
    "trainIdx.append(trI)\n",
    "valIdx.append(vI)\n",
    "hoIdx.append(hoI)\n",
    "\n",
    "for i in np.concatenate(trainIdx, axis=0):\n",
    "    img,dummy = read_data(trainImgs.iloc[i], path=trainPath)\n",
    "    imgR = preprocess_img(img, dim)\n",
    "    lab = trainLabelsEnc[i]\n",
    "\n",
    "    x_train.append(imgR)\n",
    "    y_train.append(lab)\n",
    "\n",
    "for i in np.concatenate(valIdx, axis=0):\n",
    "    img,dummy = read_data(valImgs.iloc[i], path=valPath)\n",
    "    imgR = preprocess_img(img, dim)\n",
    "    lab = valLabelsEnc[i]\n",
    "\n",
    "    x_val.append(imgR)\n",
    "    y_val.append(lab)"
   ]
  },
  {
   "cell_type": "code",
   "execution_count": 22,
   "id": "thick-therapy",
   "metadata": {},
   "outputs": [
    {
     "name": "stdout",
     "output_type": "stream",
     "text": [
      "Training shape:\n",
      "*** x_train: (2126, 54, 800, 3)\n",
      "*** y_train: (2126, 7)\n",
      "Validation shape:\n",
      "*** x_val: (537, 54, 800, 3)\n",
      "*** y_val: (537, 7)\n"
     ]
    }
   ],
   "source": [
    "print('Training shape:\\n*** x_train: {0}\\n*** y_train: {1}'.format(np.shape(x_train), np.shape(y_train)))\n",
    "print('Validation shape:\\n*** x_val: {0}\\n*** y_val: {1}'.format(np.shape(x_val), np.shape(y_val)))"
   ]
  },
  {
   "cell_type": "code",
   "execution_count": 26,
   "id": "defined-publication",
   "metadata": {},
   "outputs": [],
   "source": [
    "### Evaluation on 4-25\n",
    "output_path = r'C:\\Users\\Christopher\\Conservation_Labs\\model_outputs/'\n",
    "model_eval = cnn_model(inputs=inputs, n_classes=n_classes)\n",
    "model_eval.load_weights(output_path+'/25Apr1740_ConsLabsCNN.hdf5')"
   ]
  },
  {
   "cell_type": "code",
   "execution_count": 27,
   "id": "working-paris",
   "metadata": {},
   "outputs": [],
   "source": [
    "trainScore = model_eval.evaluate(np.array(x_train), np.array(y_train), verbose=0)\n",
    "trainPred = model_eval.predict(np.array(x_train))\n",
    "\n",
    "valScore = model_eval.evaluate(np.array(x_val), np.array(y_val), verbose=0)\n",
    "valPred = model_eval.predict(np.array(x_val))"
   ]
  },
  {
   "cell_type": "code",
   "execution_count": 28,
   "id": "neural-franklin",
   "metadata": {},
   "outputs": [],
   "source": [
    "y_pred_train = (trainPred == trainPred.max(axis=1)[:,None]).astype(int)\n",
    "y_pred_val = (valPred == valPred.max(axis=1)[:,None]).astype(int)"
   ]
  },
  {
   "cell_type": "code",
   "execution_count": 30,
   "id": "agricultural-telling",
   "metadata": {},
   "outputs": [
    {
     "name": "stdout",
     "output_type": "stream",
     "text": [
      "Train loss: 3.336362600326538\n",
      "Train accuracy: 0.9885768041929848\n",
      "Avg. train accuracy by class: 0.6264950947453299\n",
      "\n",
      "Validation loss: 3.277759552001953\n",
      "Validation accuracy: 0.9702048417132216\n",
      "Avg. validation accuracy by class: 0.6086725192870445\n"
     ]
    }
   ],
   "source": [
    "print('Train loss:', trainScore)\n",
    "print('Train accuracy:', mlaccuracy(np.array(y_train), y_pred_train))\n",
    "print('Avg. train accuracy by class:',\\\n",
    "      mlaccuracy(np.array(y_train), trainPred, method='average'))\n",
    "\n",
    "print('\\nValidation loss:', valScore)\n",
    "print('Validation accuracy:', mlaccuracy(np.array(y_val), y_pred_val))\n",
    "print('Avg. validation accuracy by class:',\\\n",
    "      mlaccuracy(np.array(y_val), valPred, method='average'))"
   ]
  },
  {
   "cell_type": "code",
   "execution_count": 22,
   "id": "suspended-railway",
   "metadata": {},
   "outputs": [],
   "source": [
    "output_path = r'C:\\Users\\Christopher\\Conservation_Labs\\model_outputs/'\n",
    "model_eval = cnn_model(inputs=inputs, n_classes=n_classes)\n",
    "model_eval.load_weights(output_path+'/25Apr1949_ConsLabsCNN.hdf5')"
   ]
  },
  {
   "cell_type": "code",
   "execution_count": 57,
   "id": "unexpected-skiing",
   "metadata": {
    "scrolled": true
   },
   "outputs": [
    {
     "name": "stdout",
     "output_type": "stream",
     "text": [
      "67/67 [==============================] - 44s 656ms/step - loss: 5.3918\n"
     ]
    }
   ],
   "source": [
    "results = model_eval.evaluate(np.array(x_train), np.array(y_train))"
   ]
  },
  {
   "cell_type": "code",
   "execution_count": 33,
   "id": "worth-activation",
   "metadata": {},
   "outputs": [],
   "source": [
    "trainScore = model_eval.evaluate(np.array(x_train), np.array(y_train), verbose=0)\n",
    "trainPred = model_eval.predict(np.array(x_train))\n",
    "\n",
    "valScore = model_eval.evaluate(np.array(x_val), np.array(y_val), verbose=0)\n",
    "valPred = model_eval.predict(np.array(x_val))"
   ]
  },
  {
   "cell_type": "code",
   "execution_count": 34,
   "id": "twelve-kidney",
   "metadata": {},
   "outputs": [],
   "source": [
    "y_pred_train = (trainPred == trainPred.max(axis=1)[:,None]).astype(int)\n",
    "y_pred_val = (valPred == valPred.max(axis=1)[:,None]).astype(int)"
   ]
  },
  {
   "cell_type": "code",
   "execution_count": 36,
   "id": "correct-incidence",
   "metadata": {},
   "outputs": [
    {
     "name": "stdout",
     "output_type": "stream",
     "text": [
      "Train loss: 4.80530309677124\n",
      "Train accuracy: 0.9986560946109394\n",
      "Avg. train accuracy by class: 0.9986560946109394\n",
      "\n",
      "Validation loss: 4.520874977111816\n",
      "Validation accuracy: 0.979781856876829\n",
      "Avg. validation accuracy by class: 0.979781856876829\n"
     ]
    }
   ],
   "source": [
    "print('Train loss:', trainScore)\n",
    "print('Train accuracy:', mlaccuracy(np.array(y_train), np.array(y_pred_train)))\n",
    "print('Avg. train accuracy by class:',\\\n",
    "      mlaccuracy(np.array(y_train), y_pred_train, method='average'))\n",
    "\n",
    "print('\\nValidation loss:', valScore)\n",
    "print('Validation accuracy:', mlaccuracy(np.array(y_val), np.array(y_pred_val)))\n",
    "print('Avg. validation accuracy by class:',\\\n",
    "      mlaccuracy(np.array(y_val), y_pred_val, method='average'))"
   ]
  },
  {
   "cell_type": "code",
   "execution_count": 23,
   "id": "functional-pharmacy",
   "metadata": {},
   "outputs": [],
   "source": [
    "from sklearn.metrics import classification_report"
   ]
  },
  {
   "cell_type": "code",
   "execution_count": 47,
   "id": "unavailable-general",
   "metadata": {},
   "outputs": [
    {
     "data": {
      "text/plain": [
       "array(['dishwasher', 'kitsink', 'lavsink', 'revosm', 'shower', 'toilet',\n",
       "       'washer'], dtype=object)"
      ]
     },
     "execution_count": 47,
     "metadata": {},
     "output_type": "execute_result"
    }
   ],
   "source": [
    "trainLabSeq"
   ]
  },
  {
   "cell_type": "code",
   "execution_count": 49,
   "id": "unlike-teach",
   "metadata": {},
   "outputs": [
    {
     "name": "stdout",
     "output_type": "stream",
     "text": [
      "*** Training set classification report:\n",
      "\n",
      "              precision    recall  f1-score   support\n",
      "\n",
      "  dishwasher       0.93      1.00      0.97        28\n",
      "     kitsink       1.00      0.99      0.99       864\n",
      "     lavsink       1.00      1.00      1.00       444\n",
      "      revosm       0.99      1.00      0.99       395\n",
      "      shower       0.98      1.00      0.99       102\n",
      "      toilet       1.00      1.00      1.00       262\n",
      "      washer       1.00      1.00      1.00        31\n",
      "\n",
      "   micro avg       1.00      1.00      1.00      2126\n",
      "   macro avg       0.99      1.00      0.99      2126\n",
      "weighted avg       1.00      1.00      1.00      2126\n",
      " samples avg       1.00      1.00      1.00      2126\n",
      "\n",
      "\n",
      "*** Validation set classification report:\n",
      "\n",
      "              precision    recall  f1-score   support\n",
      "\n",
      "  dishwasher       0.67      0.50      0.57         8\n",
      "     kitsink       0.93      0.93      0.93       217\n",
      "     lavsink       0.97      0.97      0.97       112\n",
      "      revosm       0.92      0.97      0.95        99\n",
      "      shower       0.78      0.78      0.78        27\n",
      "      toilet       0.95      0.89      0.92        66\n",
      "      washer       0.89      1.00      0.94         8\n",
      "\n",
      "   micro avg       0.93      0.93      0.93       537\n",
      "   macro avg       0.87      0.86      0.87       537\n",
      "weighted avg       0.93      0.93      0.93       537\n",
      " samples avg       0.93      0.93      0.93       537\n",
      "\n"
     ]
    }
   ],
   "source": [
    "print('*** Training set classification report:\\n')\n",
    "print(classification_report(np.array(y_train), np.array(y_pred_train), target_names=trainLabSeq))\n",
    "print('\\n*** Validation set classification report:\\n')\n",
    "print(classification_report(np.array(y_val), np.array(y_pred_val), target_names=trainLabSeq))"
   ]
  },
  {
   "cell_type": "code",
   "execution_count": 95,
   "id": "civilian-steering",
   "metadata": {},
   "outputs": [
    {
     "name": "stdout",
     "output_type": "stream",
     "text": [
      "['dishwasher' 'kitsink' 'lavsink' 'revosm' 'shower' 'toilet' 'washer']\n",
      "[0 1 2 3 4 5 6]\n"
     ]
    }
   ],
   "source": [
    "uni,pos = np.unique(trainLabSeq, return_inverse=True)\n",
    "print(uni)\n",
    "print(pos)"
   ]
  },
  {
   "cell_type": "code",
   "execution_count": 40,
   "id": "palestinian-manor",
   "metadata": {},
   "outputs": [
    {
     "data": {
      "text/plain": [
       "array([[1., 0., 0., 0., 0., 0., 0.],\n",
       "       [0., 1., 0., 0., 0., 0., 0.],\n",
       "       [0., 0., 1., 0., 0., 0., 0.],\n",
       "       [0., 0., 0., 1., 0., 0., 0.],\n",
       "       [0., 0., 0., 0., 1., 0., 0.],\n",
       "       [0., 0., 0., 0., 0., 1., 0.],\n",
       "       [0., 0., 0., 0., 0., 0., 1.]])"
      ]
     },
     "execution_count": 40,
     "metadata": {},
     "output_type": "execute_result"
    }
   ],
   "source": [
    "encodings,seq = ohe(trainLabSeq)\n",
    "encodings"
   ]
  },
  {
   "cell_type": "code",
   "execution_count": 40,
   "id": "informational-bumper",
   "metadata": {},
   "outputs": [
    {
     "name": "stdout",
     "output_type": "stream",
     "text": [
      "[1. 0. 0. 0. 0. 0. 0.] dishwasher\n",
      "[0. 1. 0. 0. 0. 0. 0.] kitsink\n",
      "[0. 0. 1. 0. 0. 0. 0.] lavsink\n",
      "[0. 0. 0. 1. 0. 0. 0.] revosm\n",
      "[0. 0. 0. 0. 1. 0. 0.] shower\n",
      "[0. 0. 0. 0. 0. 1. 0.] toilet\n",
      "[0. 0. 0. 0. 0. 0. 1.] washer\n"
     ]
    }
   ],
   "source": [
    "for count,j in enumerate(encodings):\n",
    "    print(j, trainLabSeq[count])"
   ]
  },
  {
   "cell_type": "code",
   "execution_count": 54,
   "id": "fiscal-saver",
   "metadata": {},
   "outputs": [],
   "source": [
    "y_pred_train_labs = []\n",
    "for i in y_pred_train:\n",
    "    for count,j in enumerate(encodings):\n",
    "        if np.min(i == j) == True:\n",
    "            y_pred_train_labs.append(trainLabSeq[count])"
   ]
  },
  {
   "cell_type": "code",
   "execution_count": 112,
   "id": "furnished-wisdom",
   "metadata": {},
   "outputs": [
    {
     "data": {
      "text/plain": [
       "(2126,)"
      ]
     },
     "execution_count": 112,
     "metadata": {},
     "output_type": "execute_result"
    }
   ],
   "source": [
    "pd.Series(y_pred_train_labs).shape"
   ]
  },
  {
   "cell_type": "code",
   "execution_count": 114,
   "id": "utility-child",
   "metadata": {},
   "outputs": [
    {
     "data": {
      "text/plain": [
       "(2126,)"
      ]
     },
     "execution_count": 114,
     "metadata": {},
     "output_type": "execute_result"
    }
   ],
   "source": [
    "trainLabels"
   ]
  },
  {
   "cell_type": "code",
   "execution_count": 55,
   "id": "digital-comedy",
   "metadata": {
    "scrolled": true
   },
   "outputs": [
    {
     "data": {
      "text/plain": [
       "array([[ 28,   0,   0,   0,   0,   0,   0],\n",
       "       [  2, 854,   0,   5,   2,   1,   0],\n",
       "       [  0,   0, 444,   0,   0,   0,   0],\n",
       "       [  0,   0,   0, 395,   0,   0,   0],\n",
       "       [  0,   0,   0,   0, 102,   0,   0],\n",
       "       [  0,   0,   0,   0,   0, 262,   0],\n",
       "       [  0,   0,   0,   0,   0,   0,  31]], dtype=int64)"
      ]
     },
     "execution_count": 55,
     "metadata": {},
     "output_type": "execute_result"
    }
   ],
   "source": [
    "trainCM = confusion_matrix(trainLabels, y_pred_train_labs)\n",
    "trainCM"
   ]
  },
  {
   "cell_type": "code",
   "execution_count": 56,
   "id": "fifteen-ticket",
   "metadata": {},
   "outputs": [
    {
     "data": {
      "text/plain": [
       "<matplotlib.axes._subplots.AxesSubplot at 0x2ce9b986b80>"
      ]
     },
     "execution_count": 56,
     "metadata": {},
     "output_type": "execute_result"
    },
    {
     "data": {
      "image/png": "[encoded data removed]",
      "text/plain": [
       "<Figure size 720x504 with 2 Axes>"
      ]
     },
     "metadata": {},
     "output_type": "display_data"
    }
   ],
   "source": [
    "import seaborn as sns\n",
    "import matplotlib.pyplot as plt\n",
    "\n",
    "df_cm = pd.DataFrame(trainCM, index = [i for i in trainLabSeq],\n",
    "                      columns = [i for i in trainLabSeq])\n",
    "plt.figure(figsize = (10,7))\n",
    "sns.heatmap(df_cm, annot=True)"
   ]
  },
  {
   "cell_type": "code",
   "execution_count": 57,
   "id": "configured-swing",
   "metadata": {},
   "outputs": [],
   "source": [
    "y_pred_val_labs = []\n",
    "for i in y_pred_val:\n",
    "    for count,j in enumerate(encodings):\n",
    "        if np.min(i == j) == True:\n",
    "            y_pred_val_labs.append(trainLabSeq[count])"
   ]
  },
  {
   "cell_type": "code",
   "execution_count": 58,
   "id": "unlimited-overall",
   "metadata": {
    "scrolled": true
   },
   "outputs": [
    {
     "data": {
      "text/plain": [
       "array([[  4,   4,   0,   0,   0,   0,   0],\n",
       "       [  2, 202,   1,   6,   5,   1,   0],\n",
       "       [  0,   3, 109,   0,   0,   0,   0],\n",
       "       [  0,   3,   0,  96,   0,   0,   0],\n",
       "       [  0,   3,   0,   1,  21,   2,   0],\n",
       "       [  0,   2,   2,   1,   1,  59,   1],\n",
       "       [  0,   0,   0,   0,   0,   0,   8]], dtype=int64)"
      ]
     },
     "execution_count": 58,
     "metadata": {},
     "output_type": "execute_result"
    }
   ],
   "source": [
    "valCM = confusion_matrix(valLabels, y_pred_val_labs)\n",
    "valCM"
   ]
  },
  {
   "cell_type": "code",
   "execution_count": 59,
   "id": "lonely-local",
   "metadata": {},
   "outputs": [
    {
     "data": {
      "text/plain": [
       "<matplotlib.axes._subplots.AxesSubplot at 0x2ce9b9cc160>"
      ]
     },
     "execution_count": 59,
     "metadata": {},
     "output_type": "execute_result"
    },
    {
     "data": {
      "image/png": "[encoded data removed]",
      "text/plain": [
       "<Figure size 720x504 with 2 Axes>"
      ]
     },
     "metadata": {},
     "output_type": "display_data"
    }
   ],
   "source": [
    "df_cm = pd.DataFrame(valCM, index = [i for i in trainLabSeq],\n",
    "                      columns = [i for i in trainLabSeq])\n",
    "plt.figure(figsize = (10,7))\n",
    "sns.heatmap(df_cm, annot=True)"
   ]
  }
 ],
 "metadata": {
  "kernelspec": {
   "display_name": "Python 3",
   "language": "python",
   "name": "python3"
  },
  "language_info": {
   "codemirror_mode": {
    "name": "ipython",
    "version": 3
   },
   "file_extension": ".py",
   "mimetype": "text/x-python",
   "name": "python",
   "nbconvert_exporter": "python",
   "pygments_lexer": "ipython3",
   "version": "3.8.5"
  }
 },
 "nbformat": 4,
 "nbformat_minor": 5
}
